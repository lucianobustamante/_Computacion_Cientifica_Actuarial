{
  "cells": [
    {
      "cell_type": "markdown",
      "id": "32039c51",
      "metadata": {
        "id": "32039c51"
      },
      "source": [
        "### `TP - COMPUTACIÓN CIENTIFICA ACTUARIAL 1C 2022.\n",
        "\n",
        "### `Objetivo:`\n",
        "- Implementar las técnicas aprendidas como parte del curso.\n",
        "\n",
        "### `Data information`\n",
        "\n",
        "- TRIPS\n",
        "    1. Request id: un identificador único de la solicitud\n",
        "    2. Time of request: La fecha y hora en que el cliente realizó la solicitud de viaje\n",
        "    3. Drop-off time: La fecha y hora de regreso, en caso de que el viaje se haya completado\n",
        "    4. Pick-up point: El punto desde el que se realizó la solicitud\n",
        "    5. Driver id: el número de identificación único del conductor\n",
        "    6. Status of the request: el estado final del viaje puede ser completado, cancelado por el conductor o no hay autos disponibles\n",
        "    \n",
        "   \n",
        "- DRIVERS\n",
        "    1. Driver id: identificador de conductor/a.\n",
        "    2. Name: Nombre del conductor/a.\n",
        "    3. Gender: Género del conductor/a.\n",
        "    \n",
        "### `Objetivos de aprendizaje.:`\n",
        "- Exploratory Data Analysis\n",
        "\n",
        "- Visualization using Python\n",
        "\n",
        "- Pandas – groupby, merging \n",
        "\n",
        "\n",
        "### `Realizar comentarios acerca de los insights que van encontrando en la data será tenido en cuenta a la hora de corregir el TP.:`"
      ]
    },
    {
      "cell_type": "markdown",
      "id": "ec23d216",
      "metadata": {},
      "source": [
        "## Grupo 16 \n",
        "### Miembros: \n",
        "- Gustavo Chac \n",
        "- Francisco Piccione \n",
        "- Luciano Bustamante"
      ]
    },
    {
      "cell_type": "markdown",
      "id": "bc30d3b3",
      "metadata": {
        "id": "bc30d3b3"
      },
      "source": [
        "### Importar Librerias\n",
        "\n",
        "Librerias: Pandas, Numpy, matplotlib, seaborn."
      ]
    },
    {
      "cell_type": "code",
      "execution_count": 69,
      "id": "be078c31",
      "metadata": {
        "id": "be078c31"
      },
      "outputs": [],
      "source": [
        "import pandas as pd\n",
        "import numpy as np\n",
        "import matplotlib.pyplot as plt\n",
        "import seaborn as sns\n",
        "import plotly.express as px\n",
        "\n",
        "import warnings\n",
        "warnings.filterwarnings(\"ignore\")"
      ]
    },
    {
      "cell_type": "markdown",
      "id": "dddb9d06",
      "metadata": {
        "id": "dddb9d06"
      },
      "source": [
        "### Leer datasets"
      ]
    },
    {
      "cell_type": "markdown",
      "id": "0379410b",
      "metadata": {
        "id": "0379410b"
      },
      "source": [
        "**Trips**"
      ]
    },
    {
      "cell_type": "code",
      "execution_count": 70,
      "id": "89967f8b",
      "metadata": {
        "id": "89967f8b"
      },
      "outputs": [],
      "source": [
        "trips = pd.read_csv('trips.csv')"
      ]
    },
    {
      "cell_type": "markdown",
      "id": "46223a58",
      "metadata": {
        "id": "46223a58"
      },
      "source": [
        "**Drivers**\n",
        "\n",
        "*Leer dataset con el parametro delimiter=\";\"*"
      ]
    },
    {
      "cell_type": "code",
      "execution_count": 71,
      "id": "e9d6f2e5",
      "metadata": {
        "id": "e9d6f2e5"
      },
      "outputs": [],
      "source": [
        "drivers = pd.read_csv('drivers.csv', sep= ';')"
      ]
    },
    {
      "cell_type": "markdown",
      "id": "4a79be8a",
      "metadata": {
        "id": "4a79be8a"
      },
      "source": [
        "### 1. Sanity check de los datos."
      ]
    },
    {
      "cell_type": "markdown",
      "id": "1fbcd478",
      "metadata": {
        "id": "1fbcd478"
      },
      "source": [
        "#### 1.1 Inspeccionar datasets con head()"
      ]
    },
    {
      "cell_type": "code",
      "execution_count": 72,
      "id": "e3b973dd",
      "metadata": {
        "colab": {
          "base_uri": "https://localhost:8080/",
          "height": 206
        },
        "id": "e3b973dd",
        "outputId": "99a4de39-df08-4bba-d560-519df77dcd62"
      },
      "outputs": [
        {
          "data": {
            "text/html": [
              "\n",
              "  <div id=\"df-e7071dd2-82a6-423e-a4b5-34b743eb6626\">\n",
              "    <div class=\"colab-df-container\">\n",
              "      <div>\n",
              "<style scoped>\n",
              "    .dataframe tbody tr th:only-of-type {\n",
              "        vertical-align: middle;\n",
              "    }\n",
              "\n",
              "    .dataframe tbody tr th {\n",
              "        vertical-align: top;\n",
              "    }\n",
              "\n",
              "    .dataframe thead th {\n",
              "        text-align: right;\n",
              "    }\n",
              "</style>\n",
              "<table border=\"1\" class=\"dataframe\">\n",
              "  <thead>\n",
              "    <tr style=\"text-align: right;\">\n",
              "      <th></th>\n",
              "      <th>Request id</th>\n",
              "      <th>Pickup point</th>\n",
              "      <th>Driver id</th>\n",
              "      <th>Status</th>\n",
              "      <th>Request timestamp</th>\n",
              "      <th>Drop timestamp</th>\n",
              "    </tr>\n",
              "  </thead>\n",
              "  <tbody>\n",
              "    <tr>\n",
              "      <th>0</th>\n",
              "      <td>619</td>\n",
              "      <td>Airport</td>\n",
              "      <td>1.0</td>\n",
              "      <td>Trip Completed</td>\n",
              "      <td>11/7/2016 11:51</td>\n",
              "      <td>11/7/2016 13:00</td>\n",
              "    </tr>\n",
              "    <tr>\n",
              "      <th>1</th>\n",
              "      <td>867</td>\n",
              "      <td>Airport</td>\n",
              "      <td>1.0</td>\n",
              "      <td>Trip Completed</td>\n",
              "      <td>11/7/2016 17:57</td>\n",
              "      <td>11/7/2016 18:47</td>\n",
              "    </tr>\n",
              "    <tr>\n",
              "      <th>2</th>\n",
              "      <td>1807</td>\n",
              "      <td>City</td>\n",
              "      <td>1.0</td>\n",
              "      <td>Trip Completed</td>\n",
              "      <td>12/7/2016 9:17</td>\n",
              "      <td>12/7/2016 9:58</td>\n",
              "    </tr>\n",
              "    <tr>\n",
              "      <th>3</th>\n",
              "      <td>2532</td>\n",
              "      <td>Airport</td>\n",
              "      <td>1.0</td>\n",
              "      <td>Trip Completed</td>\n",
              "      <td>12/7/2016 21:08</td>\n",
              "      <td>12/7/2016 22:03</td>\n",
              "    </tr>\n",
              "    <tr>\n",
              "      <th>4</th>\n",
              "      <td>3112</td>\n",
              "      <td>City</td>\n",
              "      <td>1.0</td>\n",
              "      <td>Trip Completed</td>\n",
              "      <td>13-07-2016 08:33:16</td>\n",
              "      <td>13-07-2016 09:25:47</td>\n",
              "    </tr>\n",
              "  </tbody>\n",
              "</table>\n",
              "</div>\n",
              "      <button class=\"colab-df-convert\" onclick=\"convertToInteractive('df-e7071dd2-82a6-423e-a4b5-34b743eb6626')\"\n",
              "              title=\"Convert this dataframe to an interactive table.\"\n",
              "              style=\"display:none;\">\n",
              "        \n",
              "  <svg xmlns=\"http://www.w3.org/2000/svg\" height=\"24px\"viewBox=\"0 0 24 24\"\n",
              "       width=\"24px\">\n",
              "    <path d=\"M0 0h24v24H0V0z\" fill=\"none\"/>\n",
              "    <path d=\"M18.56 5.44l.94 2.06.94-2.06 2.06-.94-2.06-.94-.94-2.06-.94 2.06-2.06.94zm-11 1L8.5 8.5l.94-2.06 2.06-.94-2.06-.94L8.5 2.5l-.94 2.06-2.06.94zm10 10l.94 2.06.94-2.06 2.06-.94-2.06-.94-.94-2.06-.94 2.06-2.06.94z\"/><path d=\"M17.41 7.96l-1.37-1.37c-.4-.4-.92-.59-1.43-.59-.52 0-1.04.2-1.43.59L10.3 9.45l-7.72 7.72c-.78.78-.78 2.05 0 2.83L4 21.41c.39.39.9.59 1.41.59.51 0 1.02-.2 1.41-.59l7.78-7.78 2.81-2.81c.8-.78.8-2.07 0-2.86zM5.41 20L4 18.59l7.72-7.72 1.47 1.35L5.41 20z\"/>\n",
              "  </svg>\n",
              "      </button>\n",
              "      \n",
              "  <style>\n",
              "    .colab-df-container {\n",
              "      display:flex;\n",
              "      flex-wrap:wrap;\n",
              "      gap: 12px;\n",
              "    }\n",
              "\n",
              "    .colab-df-convert {\n",
              "      background-color: #E8F0FE;\n",
              "      border: none;\n",
              "      border-radius: 50%;\n",
              "      cursor: pointer;\n",
              "      display: none;\n",
              "      fill: #1967D2;\n",
              "      height: 32px;\n",
              "      padding: 0 0 0 0;\n",
              "      width: 32px;\n",
              "    }\n",
              "\n",
              "    .colab-df-convert:hover {\n",
              "      background-color: #E2EBFA;\n",
              "      box-shadow: 0px 1px 2px rgba(60, 64, 67, 0.3), 0px 1px 3px 1px rgba(60, 64, 67, 0.15);\n",
              "      fill: #174EA6;\n",
              "    }\n",
              "\n",
              "    [theme=dark] .colab-df-convert {\n",
              "      background-color: #3B4455;\n",
              "      fill: #D2E3FC;\n",
              "    }\n",
              "\n",
              "    [theme=dark] .colab-df-convert:hover {\n",
              "      background-color: #434B5C;\n",
              "      box-shadow: 0px 1px 3px 1px rgba(0, 0, 0, 0.15);\n",
              "      filter: drop-shadow(0px 1px 2px rgba(0, 0, 0, 0.3));\n",
              "      fill: #FFFFFF;\n",
              "    }\n",
              "  </style>\n",
              "\n",
              "      <script>\n",
              "        const buttonEl =\n",
              "          document.querySelector('#df-e7071dd2-82a6-423e-a4b5-34b743eb6626 button.colab-df-convert');\n",
              "        buttonEl.style.display =\n",
              "          google.colab.kernel.accessAllowed ? 'block' : 'none';\n",
              "\n",
              "        async function convertToInteractive(key) {\n",
              "          const element = document.querySelector('#df-e7071dd2-82a6-423e-a4b5-34b743eb6626');\n",
              "          const dataTable =\n",
              "            await google.colab.kernel.invokeFunction('convertToInteractive',\n",
              "                                                     [key], {});\n",
              "          if (!dataTable) return;\n",
              "\n",
              "          const docLinkHtml = 'Like what you see? Visit the ' +\n",
              "            '<a target=\"_blank\" href=https://colab.research.google.com/notebooks/data_table.ipynb>data table notebook</a>'\n",
              "            + ' to learn more about interactive tables.';\n",
              "          element.innerHTML = '';\n",
              "          dataTable['output_type'] = 'display_data';\n",
              "          await google.colab.output.renderOutput(dataTable, element);\n",
              "          const docLink = document.createElement('div');\n",
              "          docLink.innerHTML = docLinkHtml;\n",
              "          element.appendChild(docLink);\n",
              "        }\n",
              "      </script>\n",
              "    </div>\n",
              "  </div>\n",
              "  "
            ],
            "text/plain": [
              "   Request id Pickup point  Driver id          Status    Request timestamp  \\\n",
              "0         619      Airport        1.0  Trip Completed      11/7/2016 11:51   \n",
              "1         867      Airport        1.0  Trip Completed      11/7/2016 17:57   \n",
              "2        1807         City        1.0  Trip Completed       12/7/2016 9:17   \n",
              "3        2532      Airport        1.0  Trip Completed      12/7/2016 21:08   \n",
              "4        3112         City        1.0  Trip Completed  13-07-2016 08:33:16   \n",
              "\n",
              "        Drop timestamp  \n",
              "0      11/7/2016 13:00  \n",
              "1      11/7/2016 18:47  \n",
              "2       12/7/2016 9:58  \n",
              "3      12/7/2016 22:03  \n",
              "4  13-07-2016 09:25:47  "
            ]
          },
          "execution_count": 72,
          "metadata": {},
          "output_type": "execute_result"
        }
      ],
      "source": [
        "trips.head()"
      ]
    },
    {
      "cell_type": "code",
      "execution_count": 73,
      "id": "1c11f172",
      "metadata": {
        "colab": {
          "base_uri": "https://localhost:8080/",
          "height": 206
        },
        "id": "1c11f172",
        "outputId": "50fa1abe-0dea-43a9-8be8-eb5ead85837d"
      },
      "outputs": [
        {
          "data": {
            "text/html": [
              "\n",
              "  <div id=\"df-115fda18-113e-4887-a08e-5e95505ed214\">\n",
              "    <div class=\"colab-df-container\">\n",
              "      <div>\n",
              "<style scoped>\n",
              "    .dataframe tbody tr th:only-of-type {\n",
              "        vertical-align: middle;\n",
              "    }\n",
              "\n",
              "    .dataframe tbody tr th {\n",
              "        vertical-align: top;\n",
              "    }\n",
              "\n",
              "    .dataframe thead th {\n",
              "        text-align: right;\n",
              "    }\n",
              "</style>\n",
              "<table border=\"1\" class=\"dataframe\">\n",
              "  <thead>\n",
              "    <tr style=\"text-align: right;\">\n",
              "      <th></th>\n",
              "      <th>Driver id</th>\n",
              "      <th>Name</th>\n",
              "      <th>Gender</th>\n",
              "    </tr>\n",
              "  </thead>\n",
              "  <tbody>\n",
              "    <tr>\n",
              "      <th>0</th>\n",
              "      <td>1,00</td>\n",
              "      <td>Nakita Atherton</td>\n",
              "      <td>F</td>\n",
              "    </tr>\n",
              "    <tr>\n",
              "      <th>1</th>\n",
              "      <td>2,00</td>\n",
              "      <td>Lynsey Clegg</td>\n",
              "      <td>F</td>\n",
              "    </tr>\n",
              "    <tr>\n",
              "      <th>2</th>\n",
              "      <td>3,00</td>\n",
              "      <td>Rohit Meyer</td>\n",
              "      <td>M</td>\n",
              "    </tr>\n",
              "    <tr>\n",
              "      <th>3</th>\n",
              "      <td>4,00</td>\n",
              "      <td>Gabriela Mathis</td>\n",
              "      <td>F</td>\n",
              "    </tr>\n",
              "    <tr>\n",
              "      <th>4</th>\n",
              "      <td>5,00</td>\n",
              "      <td>Tomas Sanford</td>\n",
              "      <td>M</td>\n",
              "    </tr>\n",
              "  </tbody>\n",
              "</table>\n",
              "</div>\n",
              "      <button class=\"colab-df-convert\" onclick=\"convertToInteractive('df-115fda18-113e-4887-a08e-5e95505ed214')\"\n",
              "              title=\"Convert this dataframe to an interactive table.\"\n",
              "              style=\"display:none;\">\n",
              "        \n",
              "  <svg xmlns=\"http://www.w3.org/2000/svg\" height=\"24px\"viewBox=\"0 0 24 24\"\n",
              "       width=\"24px\">\n",
              "    <path d=\"M0 0h24v24H0V0z\" fill=\"none\"/>\n",
              "    <path d=\"M18.56 5.44l.94 2.06.94-2.06 2.06-.94-2.06-.94-.94-2.06-.94 2.06-2.06.94zm-11 1L8.5 8.5l.94-2.06 2.06-.94-2.06-.94L8.5 2.5l-.94 2.06-2.06.94zm10 10l.94 2.06.94-2.06 2.06-.94-2.06-.94-.94-2.06-.94 2.06-2.06.94z\"/><path d=\"M17.41 7.96l-1.37-1.37c-.4-.4-.92-.59-1.43-.59-.52 0-1.04.2-1.43.59L10.3 9.45l-7.72 7.72c-.78.78-.78 2.05 0 2.83L4 21.41c.39.39.9.59 1.41.59.51 0 1.02-.2 1.41-.59l7.78-7.78 2.81-2.81c.8-.78.8-2.07 0-2.86zM5.41 20L4 18.59l7.72-7.72 1.47 1.35L5.41 20z\"/>\n",
              "  </svg>\n",
              "      </button>\n",
              "      \n",
              "  <style>\n",
              "    .colab-df-container {\n",
              "      display:flex;\n",
              "      flex-wrap:wrap;\n",
              "      gap: 12px;\n",
              "    }\n",
              "\n",
              "    .colab-df-convert {\n",
              "      background-color: #E8F0FE;\n",
              "      border: none;\n",
              "      border-radius: 50%;\n",
              "      cursor: pointer;\n",
              "      display: none;\n",
              "      fill: #1967D2;\n",
              "      height: 32px;\n",
              "      padding: 0 0 0 0;\n",
              "      width: 32px;\n",
              "    }\n",
              "\n",
              "    .colab-df-convert:hover {\n",
              "      background-color: #E2EBFA;\n",
              "      box-shadow: 0px 1px 2px rgba(60, 64, 67, 0.3), 0px 1px 3px 1px rgba(60, 64, 67, 0.15);\n",
              "      fill: #174EA6;\n",
              "    }\n",
              "\n",
              "    [theme=dark] .colab-df-convert {\n",
              "      background-color: #3B4455;\n",
              "      fill: #D2E3FC;\n",
              "    }\n",
              "\n",
              "    [theme=dark] .colab-df-convert:hover {\n",
              "      background-color: #434B5C;\n",
              "      box-shadow: 0px 1px 3px 1px rgba(0, 0, 0, 0.15);\n",
              "      filter: drop-shadow(0px 1px 2px rgba(0, 0, 0, 0.3));\n",
              "      fill: #FFFFFF;\n",
              "    }\n",
              "  </style>\n",
              "\n",
              "      <script>\n",
              "        const buttonEl =\n",
              "          document.querySelector('#df-115fda18-113e-4887-a08e-5e95505ed214 button.colab-df-convert');\n",
              "        buttonEl.style.display =\n",
              "          google.colab.kernel.accessAllowed ? 'block' : 'none';\n",
              "\n",
              "        async function convertToInteractive(key) {\n",
              "          const element = document.querySelector('#df-115fda18-113e-4887-a08e-5e95505ed214');\n",
              "          const dataTable =\n",
              "            await google.colab.kernel.invokeFunction('convertToInteractive',\n",
              "                                                     [key], {});\n",
              "          if (!dataTable) return;\n",
              "\n",
              "          const docLinkHtml = 'Like what you see? Visit the ' +\n",
              "            '<a target=\"_blank\" href=https://colab.research.google.com/notebooks/data_table.ipynb>data table notebook</a>'\n",
              "            + ' to learn more about interactive tables.';\n",
              "          element.innerHTML = '';\n",
              "          dataTable['output_type'] = 'display_data';\n",
              "          await google.colab.output.renderOutput(dataTable, element);\n",
              "          const docLink = document.createElement('div');\n",
              "          docLink.innerHTML = docLinkHtml;\n",
              "          element.appendChild(docLink);\n",
              "        }\n",
              "      </script>\n",
              "    </div>\n",
              "  </div>\n",
              "  "
            ],
            "text/plain": [
              "  Driver id             Name Gender\n",
              "0     1,00   Nakita Atherton      F\n",
              "1     2,00      Lynsey Clegg      F\n",
              "2     3,00       Rohit Meyer      M\n",
              "3     4,00   Gabriela Mathis      F\n",
              "4     5,00     Tomas Sanford      M"
            ]
          },
          "execution_count": 73,
          "metadata": {},
          "output_type": "execute_result"
        }
      ],
      "source": [
        "drivers.head()"
      ]
    },
    {
      "cell_type": "markdown",
      "id": "f52bda7a",
      "metadata": {
        "id": "f52bda7a"
      },
      "source": [
        "#### 1.2 Chequear shape de datasets\n",
        "\n",
        "Utilizar print statements avanzados para que quede un output del estilo:\n",
        "\n",
        "\"El dataset correspondiente a trips tiene la forma:    ; y el dataset drivers tiene la forma:    ...\""
      ]
    },
    {
      "cell_type": "code",
      "execution_count": 74,
      "id": "45def9bf",
      "metadata": {
        "colab": {
          "base_uri": "https://localhost:8080/"
        },
        "id": "45def9bf",
        "outputId": "cd7fd295-1bbf-454f-9e77-c170b80c3912"
      },
      "outputs": [
        {
          "name": "stdout",
          "output_type": "stream",
          "text": [
            "El dataset trips tiene 6745 filas y 6\n",
            "El date set de drivers tiene 300 filas y 3 \n"
          ]
        }
      ],
      "source": [
        "print(f'El dataset trips tiene {trips.shape[0]} filas y {trips.shape[1]}')\n",
        "print(f'El date set de drivers tiene {drivers.shape[0]} filas y {drivers.shape[1]} ')"
      ]
    },
    {
      "cell_type": "markdown",
      "id": "bd033e17",
      "metadata": {
        "id": "bd033e17"
      },
      "source": [
        "#### 1.3 Inspeccionar columnas y dtypes.\n",
        "\n",
        "Imprimir columnas de cada dataset."
      ]
    },
    {
      "cell_type": "code",
      "execution_count": 75,
      "id": "87ec4cb9",
      "metadata": {
        "colab": {
          "base_uri": "https://localhost:8080/"
        },
        "id": "87ec4cb9",
        "outputId": "e959bb41-ae78-46ad-f987-5b61ccb9f129"
      },
      "outputs": [
        {
          "data": {
            "text/plain": [
              "Index(['Request id', 'Pickup point', 'Driver id', 'Status',\n",
              "       'Request timestamp', 'Drop timestamp'],\n",
              "      dtype='object')"
            ]
          },
          "execution_count": 75,
          "metadata": {},
          "output_type": "execute_result"
        }
      ],
      "source": [
        "trips.columns"
      ]
    },
    {
      "cell_type": "code",
      "execution_count": 76,
      "id": "a2e003ee",
      "metadata": {
        "colab": {
          "base_uri": "https://localhost:8080/"
        },
        "id": "a2e003ee",
        "outputId": "93d3346f-efd0-43f7-8679-caf817e9392c"
      },
      "outputs": [
        {
          "data": {
            "text/plain": [
              "Index(['Driver id', 'Name', 'Gender'], dtype='object')"
            ]
          },
          "execution_count": 76,
          "metadata": {},
          "output_type": "execute_result"
        }
      ],
      "source": [
        "drivers.columns"
      ]
    },
    {
      "cell_type": "markdown",
      "id": "4a99fa05",
      "metadata": {
        "id": "4a99fa05"
      },
      "source": [
        "### 2. Joinear ambas bases para continuar con el chequeo de valores nulos. \n",
        "\n",
        "Utilizar la funcion merge de pandas y llamar al nuevo dataframe df_final. La idea es usar el dataframe trips como table madre, y traer la información de los drivers del dataframe de conduntores/as.\n",
        "\n",
        "**No debemos perder datos de la tabla de trips.**\n",
        "\n",
        "**Pista:** Las variables para joinear, son del mismo dtype? En caso que no lo sean, conviertan la columna en el mismo dtype que el dataset madre para que funcione el merge. "
      ]
    },
    {
      "cell_type": "markdown",
      "id": "2ce4d93e",
      "metadata": {
        "id": "2ce4d93e"
      },
      "source": [
        "**2.1 Modificar la columna Driver id del dataset de drivers a float**\n",
        "\n",
        "Vemos que en la columna Driver id del dataset de drivers, tenemos una \",\", la cual no nos va a permitir convertir el string a float.\n",
        "\n",
        "1. Cambiar la coma por . utilizando .replace() sobre la columna Driver id\n",
        "2. Modificar el dtype de la columna y pasarlo a float."
      ]
    },
    {
      "cell_type": "code",
      "execution_count": 77,
      "id": "78ca12e8",
      "metadata": {
        "id": "78ca12e8"
      },
      "outputs": [],
      "source": [
        "#modifico las comas por los puntos\n",
        "drivers['Driver id']= drivers['Driver id'].str.replace(',','.')"
      ]
    },
    {
      "cell_type": "code",
      "execution_count": 78,
      "id": "564660de",
      "metadata": {
        "colab": {
          "base_uri": "https://localhost:8080/"
        },
        "id": "564660de",
        "outputId": "a6ce9b40-664b-487c-89cb-1485c952f107"
      },
      "outputs": [
        {
          "name": "stdout",
          "output_type": "stream",
          "text": [
            "<class 'pandas.core.frame.DataFrame'>\n",
            "RangeIndex: 300 entries, 0 to 299\n",
            "Data columns (total 3 columns):\n",
            " #   Column     Non-Null Count  Dtype  \n",
            "---  ------     --------------  -----  \n",
            " 0   Driver id  300 non-null    float64\n",
            " 1   Name       300 non-null    object \n",
            " 2   Gender     300 non-null    object \n",
            "dtypes: float64(1), object(2)\n",
            "memory usage: 7.2+ KB\n"
          ]
        }
      ],
      "source": [
        "#cambiamos el tipo de dato de un string a un float\n",
        "drivers['Driver id']=drivers['Driver id'].astype(float)\n",
        "drivers.info('Driver id') #chequeamos que fue convertio a float"
      ]
    },
    {
      "cell_type": "markdown",
      "id": "70dd7d6e",
      "metadata": {
        "id": "70dd7d6e"
      },
      "source": [
        "**2.2 Joinear datasets y obtener el df_final**"
      ]
    },
    {
      "cell_type": "markdown",
      "id": "a8af947d",
      "metadata": {
        "id": "a8af947d"
      },
      "source": [
        "#####  cantidad de drivers que hay en la tabla de trips:\n"
      ]
    },
    {
      "cell_type": "code",
      "execution_count": 79,
      "id": "ad012664",
      "metadata": {
        "colab": {
          "base_uri": "https://localhost:8080/"
        },
        "id": "ad012664",
        "outputId": "31067c3c-34e0-466f-fc35-00fd4af2d2b6"
      },
      "outputs": [
        {
          "data": {
            "text/plain": [
              "301"
            ]
          },
          "execution_count": 79,
          "metadata": {},
          "output_type": "execute_result"
        }
      ],
      "source": [
        "len(trips['Driver id'].unique())\n",
        "#hay 301 empleados drivers mientras que en la cantidad de drivers registrados con id hay 300,  vemos cual es el motivo"
      ]
    },
    {
      "cell_type": "markdown",
      "id": "633df8bb",
      "metadata": {
        "id": "633df8bb"
      },
      "source": [
        "#####  Imprimimos todos los valores diferentes que hay en la columna del driver id:"
      ]
    },
    {
      "cell_type": "code",
      "execution_count": 80,
      "id": "cf52bc20",
      "metadata": {
        "colab": {
          "base_uri": "https://localhost:8080/"
        },
        "id": "cf52bc20",
        "outputId": "50b2b641-55d9-40b3-c10b-566198c789b3"
      },
      "outputs": [
        {
          "data": {
            "text/plain": [
              "array([  1.,   2.,   3.,   4.,   5.,   6.,   7.,   8.,   9.,  10.,  11.,\n",
              "        12.,  13.,  14.,  15.,  16.,  17.,  18.,  19.,  20.,  21.,  22.,\n",
              "        23.,  24.,  25.,  26.,  27.,  28.,  29.,  30.,  31.,  32.,  33.,\n",
              "        34.,  35.,  36.,  37.,  38.,  39.,  40.,  41.,  42.,  43.,  44.,\n",
              "        45.,  46.,  47.,  48.,  49.,  50.,  51.,  52.,  53.,  54.,  55.,\n",
              "        56.,  57.,  58.,  59.,  60.,  61.,  62.,  63.,  64.,  65.,  66.,\n",
              "        67.,  68.,  69.,  70.,  71.,  72.,  73.,  74.,  75.,  76.,  77.,\n",
              "        78.,  79.,  80.,  81.,  82.,  83.,  84.,  85.,  86.,  87.,  88.,\n",
              "        89.,  90.,  91.,  92.,  93.,  94.,  95.,  96.,  97.,  98.,  99.,\n",
              "       100., 101., 102., 103., 104., 105., 106., 107., 108., 109., 110.,\n",
              "       111., 112., 113., 114., 115., 116., 117., 118., 119., 120., 121.,\n",
              "       122., 123., 124., 125., 126., 127., 128., 129., 130., 131., 132.,\n",
              "       133., 134., 135., 136., 137., 138., 139., 140., 141., 142., 143.,\n",
              "       144., 145., 146., 147., 148., 149., 150., 151., 152., 153., 154.,\n",
              "       155., 156., 157., 158., 159., 160., 161., 162., 163., 164., 165.,\n",
              "       166., 167., 168., 169., 170., 171., 172., 173., 174., 175., 176.,\n",
              "       177., 178., 179., 180., 181., 182., 183., 184., 185., 186., 187.,\n",
              "       188., 189., 190., 191., 192., 193., 194., 195., 196., 197., 198.,\n",
              "       199., 200., 201., 202., 203., 204., 205., 206., 207., 208., 209.,\n",
              "       210., 211., 212., 213., 214., 215., 216., 217., 218., 219., 220.,\n",
              "       221., 222., 223., 224., 225., 226., 227., 228., 229., 230., 231.,\n",
              "       232., 233., 234., 235., 236., 237., 238., 239., 240., 241., 242.,\n",
              "       243., 244., 245., 246., 247., 248., 249., 250., 251., 252., 253.,\n",
              "       254., 255., 256., 257., 258., 259., 260., 261., 262., 263., 264.,\n",
              "       265., 266., 267., 268., 269., 270., 271., 272., 273., 274., 275.,\n",
              "       276., 277., 278., 279., 280., 281., 282., 283., 284., 285., 286.,\n",
              "       287., 288., 289., 290., 291., 292., 293., 294., 295., 296., 297.,\n",
              "       298., 299., 300.,  nan])"
            ]
          },
          "execution_count": 80,
          "metadata": {},
          "output_type": "execute_result"
        }
      ],
      "source": [
        "trips['Driver id'].unique() #hay un driver id que tiene el campo vacio.."
      ]
    },
    {
      "cell_type": "code",
      "execution_count": 81,
      "id": "02229be1",
      "metadata": {
        "id": "02229be1"
      },
      "outputs": [],
      "source": [
        "#si hacemos un inner join, vamos a perder ese dato vacio ya que tomara los id que estan en ambos, usaremos un left \n",
        "# join para incluir ese registro.\n",
        "df_final= trips.merge(drivers, how='left')"
      ]
    },
    {
      "cell_type": "markdown",
      "id": "2afe3bbf",
      "metadata": {
        "id": "2afe3bbf"
      },
      "source": [
        "**2.3 Chequear shape del dataset madre y el dataset nuevo**\n",
        "\n",
        "Debemos tener la misma cantidad de filas para asegurarnos que el merge se hizo correctamente."
      ]
    },
    {
      "cell_type": "code",
      "execution_count": 82,
      "id": "6b1d8278",
      "metadata": {
        "colab": {
          "base_uri": "https://localhost:8080/"
        },
        "id": "6b1d8278",
        "outputId": "34a5d2eb-7c1b-4749-c8e1-bb9d5c07dd5d"
      },
      "outputs": [
        {
          "data": {
            "text/plain": [
              "True"
            ]
          },
          "execution_count": 82,
          "metadata": {},
          "output_type": "execute_result"
        }
      ],
      "source": [
        "#chequeamos que tenga la misma cantidad de filas:\n",
        "len(trips)==len(df_final)"
      ]
    },
    {
      "cell_type": "markdown",
      "id": "b2c0fde9",
      "metadata": {
        "id": "b2c0fde9"
      },
      "source": [
        "### 3. Analizar valores nulos del dataset mergeado."
      ]
    },
    {
      "cell_type": "markdown",
      "id": "f04849ed",
      "metadata": {
        "id": "f04849ed"
      },
      "source": [
        "##### Primero para saber la cantidad de nulos que hay y poder analizarlos el por qué de ellos veremos la cantidad de cada uno de sus columnas y ver el caso a caso"
      ]
    },
    {
      "cell_type": "code",
      "execution_count": 83,
      "id": "04631fdf",
      "metadata": {
        "colab": {
          "base_uri": "https://localhost:8080/"
        },
        "id": "04631fdf",
        "outputId": "023f42fd-21a8-465a-cb9f-9f6cf279e2a3"
      },
      "outputs": [
        {
          "name": "stdout",
          "output_type": "stream",
          "text": [
            "Cantidad de nulos que tiene Request id: 0\n",
            "Cantidad de nulos que tiene Pickup point: 0\n",
            "Cantidad de nulos que tiene Driver id: 2650\n",
            "Cantidad de nulos que tiene Status: 0\n",
            "Cantidad de nulos que tiene Request timestamp: 0\n",
            "Cantidad de nulos que tiene Drop timestamp: 3914\n",
            "Cantidad de nulos que tiene Name: 2650\n",
            "Cantidad de nulos que tiene Gender: 2650\n"
          ]
        }
      ],
      "source": [
        "columnas=df_final.columns\n",
        "for i in columnas:\n",
        "    print(f'Cantidad de nulos que tiene {i}:', len(df_final[df_final[f'{i}'].isna()]))\n"
      ]
    },
    {
      "cell_type": "markdown",
      "id": "cd0e6011",
      "metadata": {
        "id": "cd0e6011"
      },
      "source": [
        "Comprobamos que cuando el driver id esta vacio, en el mismo registro, tambien lo está el campo del nombre y el genero del conductor. "
      ]
    },
    {
      "cell_type": "code",
      "execution_count": 84,
      "id": "9595ec0c",
      "metadata": {
        "colab": {
          "base_uri": "https://localhost:8080/"
        },
        "id": "9595ec0c",
        "outputId": "24612899-2f21-4c47-9e28-2866d318206d"
      },
      "outputs": [
        {
          "name": "stdout",
          "output_type": "stream",
          "text": [
            "2650\n",
            "2650\n",
            "2650\n"
          ]
        }
      ],
      "source": [
        "print(len(df_final[(df_final['Driver id'].isna()) & (df_final['Name'].isna())])) \n",
        "print(len(df_final[(df_final['Gender'].isna()) & (df_final['Name'].isna())]))\n",
        "print(len(df_final[(df_final['Gender'].isna()) & (df_final['Driver id'].isna())]))\n",
        "#coinciden en la cantidad de veces que aparecen nulos o campos vacios en su conjunto y por seprado"
      ]
    },
    {
      "cell_type": "markdown",
      "id": "400d7a90",
      "metadata": {
        "id": "400d7a90"
      },
      "source": [
        "### 4. Analizar valores unicos para las distintas variables"
      ]
    },
    {
      "cell_type": "markdown",
      "id": "033c01fa",
      "metadata": {
        "id": "033c01fa"
      },
      "source": [
        "**4.1 Variables categoricas**\n",
        "\n",
        "- Realizar este procedimiento solo para las columnas Pickup point y Status. Usar print avanzado con .format()."
      ]
    },
    {
      "cell_type": "code",
      "execution_count": 85,
      "id": "8501b3e2",
      "metadata": {
        "colab": {
          "base_uri": "https://localhost:8080/"
        },
        "id": "8501b3e2",
        "outputId": "3d312747-560b-4980-9275-79f1ffbe6f45"
      },
      "outputs": [
        {
          "data": {
            "text/plain": [
              "Trip Completed       2831\n",
              "No Cars Available    2650\n",
              "Cancelled            1264\n",
              "Name: Status, dtype: int64"
            ]
          },
          "execution_count": 85,
          "metadata": {},
          "output_type": "execute_result"
        }
      ],
      "source": [
        "valores=df_final['Status'].value_counts() #suma nulos en Drop timestamp es igual a la suma de status: 'Cancelled' y 'No\n",
        "#Cars Available'\n",
        "valores"
      ]
    },
    {
      "cell_type": "code",
      "execution_count": 86,
      "id": "83d5d456",
      "metadata": {
        "colab": {
          "base_uri": "https://localhost:8080/"
        },
        "id": "83d5d456",
        "outputId": "01c65339-6d6f-479d-93cc-350e06322d6c"
      },
      "outputs": [
        {
          "data": {
            "text/plain": [
              "True"
            ]
          },
          "execution_count": 86,
          "metadata": {},
          "output_type": "execute_result"
        }
      ],
      "source": [
        "(valores[1]+ valores[2])==len(df_final[df_final['Drop timestamp'].isna()])"
      ]
    },
    {
      "cell_type": "markdown",
      "id": "af61e5ce",
      "metadata": {
        "id": "af61e5ce"
      },
      "source": [
        "Vemos si la cantidad de registros en driver id con vacios, tienen el mismo starus de 'No Cars Available':"
      ]
    },
    {
      "cell_type": "code",
      "execution_count": 87,
      "id": "mV8WS1QHGVIP",
      "metadata": {
        "colab": {
          "base_uri": "https://localhost:8080/"
        },
        "id": "mV8WS1QHGVIP",
        "outputId": "dba2fa86-37e3-45dc-dbb6-effe393f3274"
      },
      "outputs": [
        {
          "data": {
            "text/plain": [
              "Status\n",
              "No Cars Available    2650\n",
              "dtype: int64"
            ]
          },
          "execution_count": 87,
          "metadata": {},
          "output_type": "execute_result"
        }
      ],
      "source": [
        "df_final[df_final['Driver id'].isna()].value_counts('Status') #confirmamos que la razon por la que no hay \n",
        "#Autos que haga el reparto es por la no disponibilidad de autos. "
      ]
    },
    {
      "cell_type": "markdown",
      "id": "74f098e2",
      "metadata": {
        "id": "74f098e2"
      },
      "source": [
        "### 5. Feature engineering"
      ]
    },
    {
      "cell_type": "markdown",
      "id": "a7d42bdd",
      "metadata": {
        "id": "a7d42bdd"
      },
      "source": [
        "#### 5.1 Corregir las columnas request timestamp y drop timestamp.\n",
        "\n",
        "*Observemos que en request timestamp, tenemos algunas fechas separadas con \"/\" y otras separadas con \"-\". \n",
        "Estandarizemos dicho problema y dejemos solo \"/\" tanto para las columnas request timestamp y drop timestamp."
      ]
    },
    {
      "cell_type": "code",
      "execution_count": 88,
      "id": "e1d800a2",
      "metadata": {
        "id": "e1d800a2"
      },
      "outputs": [],
      "source": [
        "df_final['Drop timestamp']=df_final['Drop timestamp'].str.replace('-','/')\n",
        "df_final['Request timestamp']=df_final['Request timestamp'].str.replace('-','/')"
      ]
    },
    {
      "cell_type": "markdown",
      "id": "4b79ea09",
      "metadata": {
        "id": "4b79ea09"
      },
      "source": [
        "**5.2 Convertir las columnas request timestamp y drop timestamp en formato datetime**"
      ]
    },
    {
      "cell_type": "code",
      "execution_count": 89,
      "id": "1df01b79",
      "metadata": {
        "id": "1df01b79"
      },
      "outputs": [],
      "source": [
        "df_final['Drop timestamp']=pd.to_datetime(df_final['Drop timestamp'])\n",
        "df_final['Request timestamp']=pd.to_datetime(df_final['Request timestamp'])"
      ]
    },
    {
      "cell_type": "code",
      "execution_count": 92,
      "id": "d5444b5e",
      "metadata": {
        "colab": {
          "base_uri": "https://localhost:8080/",
          "height": 424
        },
        "id": "d5444b5e",
        "outputId": "ab9e2f58-6046-4e5c-d1a4-30cac3af844f",
        "scrolled": true
      },
      "outputs": [
        {
          "data": {
            "text/html": [
              "\n",
              "  <div id=\"df-c89e038c-977b-4c01-9b7c-769cc99395b2\">\n",
              "    <div class=\"colab-df-container\">\n",
              "      <div>\n",
              "<style scoped>\n",
              "    .dataframe tbody tr th:only-of-type {\n",
              "        vertical-align: middle;\n",
              "    }\n",
              "\n",
              "    .dataframe tbody tr th {\n",
              "        vertical-align: top;\n",
              "    }\n",
              "\n",
              "    .dataframe thead th {\n",
              "        text-align: right;\n",
              "    }\n",
              "</style>\n",
              "<table border=\"1\" class=\"dataframe\">\n",
              "  <thead>\n",
              "    <tr style=\"text-align: right;\">\n",
              "      <th></th>\n",
              "      <th>Request id</th>\n",
              "      <th>Pickup point</th>\n",
              "      <th>Driver id</th>\n",
              "      <th>Status</th>\n",
              "      <th>Request timestamp</th>\n",
              "      <th>Drop timestamp</th>\n",
              "      <th>Name</th>\n",
              "      <th>Gender</th>\n",
              "    </tr>\n",
              "  </thead>\n",
              "  <tbody>\n",
              "    <tr>\n",
              "      <th>0</th>\n",
              "      <td>619</td>\n",
              "      <td>Airport</td>\n",
              "      <td>1.0</td>\n",
              "      <td>Trip Completed</td>\n",
              "      <td>2016-11-07 11:51:00</td>\n",
              "      <td>2016-11-07 13:00:00</td>\n",
              "      <td>Nakita Atherton</td>\n",
              "      <td>F</td>\n",
              "    </tr>\n",
              "    <tr>\n",
              "      <th>1</th>\n",
              "      <td>867</td>\n",
              "      <td>Airport</td>\n",
              "      <td>1.0</td>\n",
              "      <td>Trip Completed</td>\n",
              "      <td>2016-11-07 17:57:00</td>\n",
              "      <td>2016-11-07 18:47:00</td>\n",
              "      <td>Nakita Atherton</td>\n",
              "      <td>F</td>\n",
              "    </tr>\n",
              "    <tr>\n",
              "      <th>2</th>\n",
              "      <td>1807</td>\n",
              "      <td>City</td>\n",
              "      <td>1.0</td>\n",
              "      <td>Trip Completed</td>\n",
              "      <td>2016-12-07 09:17:00</td>\n",
              "      <td>2016-12-07 09:58:00</td>\n",
              "      <td>Nakita Atherton</td>\n",
              "      <td>F</td>\n",
              "    </tr>\n",
              "    <tr>\n",
              "      <th>3</th>\n",
              "      <td>2532</td>\n",
              "      <td>Airport</td>\n",
              "      <td>1.0</td>\n",
              "      <td>Trip Completed</td>\n",
              "      <td>2016-12-07 21:08:00</td>\n",
              "      <td>2016-12-07 22:03:00</td>\n",
              "      <td>Nakita Atherton</td>\n",
              "      <td>F</td>\n",
              "    </tr>\n",
              "    <tr>\n",
              "      <th>4</th>\n",
              "      <td>3112</td>\n",
              "      <td>City</td>\n",
              "      <td>1.0</td>\n",
              "      <td>Trip Completed</td>\n",
              "      <td>2016-07-13 08:33:16</td>\n",
              "      <td>2016-07-13 09:25:47</td>\n",
              "      <td>Nakita Atherton</td>\n",
              "      <td>F</td>\n",
              "    </tr>\n",
              "    <tr>\n",
              "      <th>...</th>\n",
              "      <td>...</td>\n",
              "      <td>...</td>\n",
              "      <td>...</td>\n",
              "      <td>...</td>\n",
              "      <td>...</td>\n",
              "      <td>...</td>\n",
              "      <td>...</td>\n",
              "      <td>...</td>\n",
              "    </tr>\n",
              "    <tr>\n",
              "      <th>6740</th>\n",
              "      <td>6745</td>\n",
              "      <td>City</td>\n",
              "      <td>NaN</td>\n",
              "      <td>No Cars Available</td>\n",
              "      <td>2016-07-15 23:49:03</td>\n",
              "      <td>NaT</td>\n",
              "      <td>NaN</td>\n",
              "      <td>NaN</td>\n",
              "    </tr>\n",
              "    <tr>\n",
              "      <th>6741</th>\n",
              "      <td>6752</td>\n",
              "      <td>Airport</td>\n",
              "      <td>NaN</td>\n",
              "      <td>No Cars Available</td>\n",
              "      <td>2016-07-15 23:50:05</td>\n",
              "      <td>NaT</td>\n",
              "      <td>NaN</td>\n",
              "      <td>NaN</td>\n",
              "    </tr>\n",
              "    <tr>\n",
              "      <th>6742</th>\n",
              "      <td>6751</td>\n",
              "      <td>City</td>\n",
              "      <td>NaN</td>\n",
              "      <td>No Cars Available</td>\n",
              "      <td>2016-07-15 23:52:06</td>\n",
              "      <td>NaT</td>\n",
              "      <td>NaN</td>\n",
              "      <td>NaN</td>\n",
              "    </tr>\n",
              "    <tr>\n",
              "      <th>6743</th>\n",
              "      <td>6754</td>\n",
              "      <td>City</td>\n",
              "      <td>NaN</td>\n",
              "      <td>No Cars Available</td>\n",
              "      <td>2016-07-15 23:54:39</td>\n",
              "      <td>NaT</td>\n",
              "      <td>NaN</td>\n",
              "      <td>NaN</td>\n",
              "    </tr>\n",
              "    <tr>\n",
              "      <th>6744</th>\n",
              "      <td>6753</td>\n",
              "      <td>Airport</td>\n",
              "      <td>NaN</td>\n",
              "      <td>No Cars Available</td>\n",
              "      <td>2016-07-15 23:55:03</td>\n",
              "      <td>NaT</td>\n",
              "      <td>NaN</td>\n",
              "      <td>NaN</td>\n",
              "    </tr>\n",
              "  </tbody>\n",
              "</table>\n",
              "<p>6745 rows × 8 columns</p>\n",
              "</div>\n",
              "      <button class=\"colab-df-convert\" onclick=\"convertToInteractive('df-c89e038c-977b-4c01-9b7c-769cc99395b2')\"\n",
              "              title=\"Convert this dataframe to an interactive table.\"\n",
              "              style=\"display:none;\">\n",
              "        \n",
              "  <svg xmlns=\"http://www.w3.org/2000/svg\" height=\"24px\"viewBox=\"0 0 24 24\"\n",
              "       width=\"24px\">\n",
              "    <path d=\"M0 0h24v24H0V0z\" fill=\"none\"/>\n",
              "    <path d=\"M18.56 5.44l.94 2.06.94-2.06 2.06-.94-2.06-.94-.94-2.06-.94 2.06-2.06.94zm-11 1L8.5 8.5l.94-2.06 2.06-.94-2.06-.94L8.5 2.5l-.94 2.06-2.06.94zm10 10l.94 2.06.94-2.06 2.06-.94-2.06-.94-.94-2.06-.94 2.06-2.06.94z\"/><path d=\"M17.41 7.96l-1.37-1.37c-.4-.4-.92-.59-1.43-.59-.52 0-1.04.2-1.43.59L10.3 9.45l-7.72 7.72c-.78.78-.78 2.05 0 2.83L4 21.41c.39.39.9.59 1.41.59.51 0 1.02-.2 1.41-.59l7.78-7.78 2.81-2.81c.8-.78.8-2.07 0-2.86zM5.41 20L4 18.59l7.72-7.72 1.47 1.35L5.41 20z\"/>\n",
              "  </svg>\n",
              "      </button>\n",
              "      \n",
              "  <style>\n",
              "    .colab-df-container {\n",
              "      display:flex;\n",
              "      flex-wrap:wrap;\n",
              "      gap: 12px;\n",
              "    }\n",
              "\n",
              "    .colab-df-convert {\n",
              "      background-color: #E8F0FE;\n",
              "      border: none;\n",
              "      border-radius: 50%;\n",
              "      cursor: pointer;\n",
              "      display: none;\n",
              "      fill: #1967D2;\n",
              "      height: 32px;\n",
              "      padding: 0 0 0 0;\n",
              "      width: 32px;\n",
              "    }\n",
              "\n",
              "    .colab-df-convert:hover {\n",
              "      background-color: #E2EBFA;\n",
              "      box-shadow: 0px 1px 2px rgba(60, 64, 67, 0.3), 0px 1px 3px 1px rgba(60, 64, 67, 0.15);\n",
              "      fill: #174EA6;\n",
              "    }\n",
              "\n",
              "    [theme=dark] .colab-df-convert {\n",
              "      background-color: #3B4455;\n",
              "      fill: #D2E3FC;\n",
              "    }\n",
              "\n",
              "    [theme=dark] .colab-df-convert:hover {\n",
              "      background-color: #434B5C;\n",
              "      box-shadow: 0px 1px 3px 1px rgba(0, 0, 0, 0.15);\n",
              "      filter: drop-shadow(0px 1px 2px rgba(0, 0, 0, 0.3));\n",
              "      fill: #FFFFFF;\n",
              "    }\n",
              "  </style>\n",
              "\n",
              "      <script>\n",
              "        const buttonEl =\n",
              "          document.querySelector('#df-c89e038c-977b-4c01-9b7c-769cc99395b2 button.colab-df-convert');\n",
              "        buttonEl.style.display =\n",
              "          google.colab.kernel.accessAllowed ? 'block' : 'none';\n",
              "\n",
              "        async function convertToInteractive(key) {\n",
              "          const element = document.querySelector('#df-c89e038c-977b-4c01-9b7c-769cc99395b2');\n",
              "          const dataTable =\n",
              "            await google.colab.kernel.invokeFunction('convertToInteractive',\n",
              "                                                     [key], {});\n",
              "          if (!dataTable) return;\n",
              "\n",
              "          const docLinkHtml = 'Like what you see? Visit the ' +\n",
              "            '<a target=\"_blank\" href=https://colab.research.google.com/notebooks/data_table.ipynb>data table notebook</a>'\n",
              "            + ' to learn more about interactive tables.';\n",
              "          element.innerHTML = '';\n",
              "          dataTable['output_type'] = 'display_data';\n",
              "          await google.colab.output.renderOutput(dataTable, element);\n",
              "          const docLink = document.createElement('div');\n",
              "          docLink.innerHTML = docLinkHtml;\n",
              "          element.appendChild(docLink);\n",
              "        }\n",
              "      </script>\n",
              "    </div>\n",
              "  </div>\n",
              "  "
            ],
            "text/plain": [
              "      Request id Pickup point  Driver id             Status  \\\n",
              "0            619      Airport        1.0     Trip Completed   \n",
              "1            867      Airport        1.0     Trip Completed   \n",
              "2           1807         City        1.0     Trip Completed   \n",
              "3           2532      Airport        1.0     Trip Completed   \n",
              "4           3112         City        1.0     Trip Completed   \n",
              "...          ...          ...        ...                ...   \n",
              "6740        6745         City        NaN  No Cars Available   \n",
              "6741        6752      Airport        NaN  No Cars Available   \n",
              "6742        6751         City        NaN  No Cars Available   \n",
              "6743        6754         City        NaN  No Cars Available   \n",
              "6744        6753      Airport        NaN  No Cars Available   \n",
              "\n",
              "       Request timestamp      Drop timestamp             Name Gender  \n",
              "0    2016-11-07 11:51:00 2016-11-07 13:00:00  Nakita Atherton      F  \n",
              "1    2016-11-07 17:57:00 2016-11-07 18:47:00  Nakita Atherton      F  \n",
              "2    2016-12-07 09:17:00 2016-12-07 09:58:00  Nakita Atherton      F  \n",
              "3    2016-12-07 21:08:00 2016-12-07 22:03:00  Nakita Atherton      F  \n",
              "4    2016-07-13 08:33:16 2016-07-13 09:25:47  Nakita Atherton      F  \n",
              "...                  ...                 ...              ...    ...  \n",
              "6740 2016-07-15 23:49:03                 NaT              NaN    NaN  \n",
              "6741 2016-07-15 23:50:05                 NaT              NaN    NaN  \n",
              "6742 2016-07-15 23:52:06                 NaT              NaN    NaN  \n",
              "6743 2016-07-15 23:54:39                 NaT              NaN    NaN  \n",
              "6744 2016-07-15 23:55:03                 NaT              NaN    NaN  \n",
              "\n",
              "[6745 rows x 8 columns]"
            ]
          },
          "execution_count": 92,
          "metadata": {},
          "output_type": "execute_result"
        }
      ],
      "source": [
        "df_final #si bien se remplazo por las fechas - por /, cuando lo paso a fecha queda -"
      ]
    },
    {
      "cell_type": "markdown",
      "id": "2dd7454b",
      "metadata": {
        "id": "2dd7454b"
      },
      "source": [
        "**5.3 Crear las columnas year, month y hour para cada columna datetime**\n",
        "\n",
        "La idea es tener una columna que sea \"request_**col**\" y \"drop_**col**\"; siendo **col**: {year, month, hour}."
      ]
    },
    {
      "cell_type": "code",
      "execution_count": 93,
      "id": "828bf33d",
      "metadata": {
        "id": "828bf33d"
      },
      "outputs": [],
      "source": [
        "from datetime import datetime"
      ]
    },
    {
      "cell_type": "markdown",
      "id": "6b4ab587",
      "metadata": {
        "id": "6b4ab587"
      },
      "source": [
        "**Year**"
      ]
    },
    {
      "cell_type": "markdown",
      "id": "fb422951",
      "metadata": {
        "id": "fb422951"
      },
      "source": [
        "#### Primero creamos listas vacias para ir agregando a la la misma al año/mes/dia que se van calculando en el bucle para luego asignarle a una nueva columna de df_final"
      ]
    },
    {
      "cell_type": "code",
      "execution_count": 94,
      "id": "4c0acf1d",
      "metadata": {
        "id": "4c0acf1d"
      },
      "outputs": [],
      "source": [
        "year_request=[]\n",
        "year_drop=[]\n",
        "for i in range(len(df_final)):\n",
        "    year_request.append(df_final['Request timestamp'][i].strftime('%Y'))\n",
        "    try:\n",
        "        year_drop.append(df_final['Drop timestamp'][i].strftime('%Y')) #creado con el fin de solucionar el error de no transformar el campo vacio en una fecha\n",
        "    except Exception :\n",
        "        year_drop.append('NaN')\n",
        "\n",
        "df_final['year_request']=year_request        \n",
        "df_final['year_drop']=year_drop"
      ]
    },
    {
      "cell_type": "markdown",
      "id": "445fc851",
      "metadata": {
        "id": "445fc851"
      },
      "source": [
        "**Month** "
      ]
    },
    {
      "cell_type": "code",
      "execution_count": 95,
      "id": "4e207420",
      "metadata": {
        "id": "4e207420"
      },
      "outputs": [],
      "source": [
        "month_request=[]\n",
        "month_drop=[]\n",
        "for i in range(len(df_final)):\n",
        "    month_request.append(df_final['Request timestamp'][i].strftime('%B'))\n",
        "    try:\n",
        "        month_drop.append(df_final['Drop timestamp'][i].strftime('%B'))\n",
        "    except :\n",
        "        month_drop.append('NaN')\n",
        "df_final['month_request']=month_request\n",
        "df_final['month_drop']=month_drop"
      ]
    },
    {
      "cell_type": "markdown",
      "id": "52eeea41",
      "metadata": {
        "id": "52eeea41"
      },
      "source": [
        "**Hour**"
      ]
    },
    {
      "cell_type": "code",
      "execution_count": 96,
      "id": "511362b2",
      "metadata": {
        "id": "511362b2"
      },
      "outputs": [],
      "source": [
        "hour_request=[]\n",
        "hour_drop=[]\n",
        "for i in range(len(df_final)):\n",
        "    hour_request.append(int(df_final['Request timestamp'][i].strftime('%H')))\n",
        "    try:\n",
        "        hour_drop.append(int(df_final['Drop timestamp'][i].strftime('%H')))\n",
        "    except :\n",
        "        hour_drop.append(0)\n",
        "df_final['hour_request']=hour_request\n",
        "df_final['hour_drop']=hour_drop"
      ]
    },
    {
      "cell_type": "markdown",
      "id": "4e463194",
      "metadata": {
        "id": "4e463194"
      },
      "source": [
        "### 6. Duración de los viajes.\n",
        "\n",
        "Chequear la duración de los viajes calculando la diferencia entre las columnas request_timestamp_corrected y drop_timestamp_corrected.\n",
        "\n",
        "Lastly what I will do is check if the duration of the trips are coherent or not. By coherent I mean that we have some \"NORMAL\" duration of trips. If I found some trip that lasted more than 8 hs or it's negative, it should be considered an outlier or maybe an error of the data. That is the purpose of this task.\n",
        "\n",
        "The duration will be calculated in mins and using the columns request_timestamp_corrected and drop_timestamp_corrected.\n",
        "\n",
        "**Ayuda:** Para obtenerlo en minutos, debemos usar la siguiente sintaxis. \n",
        "\n",
        "```df_final[\"trip_duration_mins\"] = (df_final[\"drop_timestamp_corrected\"] - df_final[\"request_timestamp_corrected\"]).astype('timedelta64[m]').astype(\"float\")```\n"
      ]
    },
    {
      "cell_type": "markdown",
      "id": "07da80bc",
      "metadata": {
        "id": "07da80bc"
      },
      "source": [
        "**6.1 Crear la columna \"trip_duration_mins\" con lo comentado arriba**."
      ]
    },
    {
      "cell_type": "code",
      "execution_count": 97,
      "id": "add43a23",
      "metadata": {
        "colab": {
          "base_uri": "https://localhost:8080/"
        },
        "id": "add43a23",
        "outputId": "53fde21e-2e87-40c8-bf60-76dc720434ee"
      },
      "outputs": [
        {
          "name": "stdout",
          "output_type": "stream",
          "text": [
            "<class 'pandas.core.frame.DataFrame'>\n",
            "Int64Index: 6745 entries, 0 to 6744\n",
            "Data columns (total 14 columns):\n",
            " #   Column             Non-Null Count  Dtype         \n",
            "---  ------             --------------  -----         \n",
            " 0   Request id         6745 non-null   int64         \n",
            " 1   Pickup point       6745 non-null   object        \n",
            " 2   Driver id          4095 non-null   float64       \n",
            " 3   Status             6745 non-null   object        \n",
            " 4   Request timestamp  6745 non-null   datetime64[ns]\n",
            " 5   Drop timestamp     2831 non-null   datetime64[ns]\n",
            " 6   Name               4095 non-null   object        \n",
            " 7   Gender             4095 non-null   object        \n",
            " 8   year_request       6745 non-null   object        \n",
            " 9   year_drop          6745 non-null   object        \n",
            " 10  month_request      6745 non-null   object        \n",
            " 11  month_drop         6745 non-null   object        \n",
            " 12  hour_request       6745 non-null   int64         \n",
            " 13  hour_drop          6745 non-null   int64         \n",
            "dtypes: datetime64[ns](2), float64(1), int64(3), object(8)\n",
            "memory usage: 1.0+ MB\n"
          ]
        }
      ],
      "source": [
        "df_final.info()"
      ]
    },
    {
      "cell_type": "code",
      "execution_count": 101,
      "id": "4582c6a8",
      "metadata": {
        "id": "4582c6a8"
      },
      "outputs": [],
      "source": [
        "df_final[\"trip_duration_mins\"] = (df_final[\"Drop timestamp\"] - df_final[\"Request timestamp\"]).astype('timedelta64[m]').astype(\"float\")"
      ]
    },
    {
      "cell_type": "markdown",
      "id": "cacf9425",
      "metadata": {
        "id": "cacf9425"
      },
      "source": [
        "**6.2 Realizar un sanity check sobre las duraciones**\n",
        "\n",
        "- Chequear distirbucin utilizando .describe()\n",
        "- Plotear un boxplot y un histograma.\n",
        "\n",
        "**Tener en cuenta de realizar el describe solo para la columna trip_duration_mins, donde esa columna NO es nula**"
      ]
    },
    {
      "cell_type": "markdown",
      "id": "4fc780f5",
      "metadata": {
        "id": "4fc780f5"
      },
      "source": [
        "**Describe()**"
      ]
    },
    {
      "cell_type": "code",
      "execution_count": 138,
      "id": "27d5be13",
      "metadata": {
        "colab": {
          "base_uri": "https://localhost:8080/"
        },
        "id": "27d5be13",
        "outputId": "eeb26b50-2255-41e1-c5b7-90340d0df0a7",
        "scrolled": true
      },
      "outputs": [
        {
          "data": {
            "text/plain": [
              "count      2831.000000\n",
              "mean       -646.263158\n",
              "std       14827.877457\n",
              "min     -213087.000000\n",
              "25%          41.000000\n",
              "50%          52.000000\n",
              "75%          64.000000\n",
              "max       41835.000000\n",
              "Name: trip_duration_mins, dtype: float64"
            ]
          },
          "execution_count": 138,
          "metadata": {},
          "output_type": "execute_result"
        }
      ],
      "source": [
        "df_final[df_final['trip_duration_mins'].notna()].trip_duration_mins.describe()"
      ]
    },
    {
      "cell_type": "markdown",
      "id": "787c84b9",
      "metadata": {
        "id": "787c84b9"
      },
      "source": [
        "**Boxplot**"
      ]
    },
    {
      "cell_type": "code",
      "execution_count": 9,
      "id": "06e5c00f",
      "metadata": {
        "colab": {
          "base_uri": "https://localhost:8080/",
          "height": 169
        },
        "id": "06e5c00f",
        "outputId": "60a1e341-44a5-4b96-fdd1-a270b464fefd",
        "scrolled": true
      },
      "outputs": [
        {
          "ename": "NameError",
          "evalue": "ignored",
          "output_type": "error",
          "traceback": [
            "\u001b[0;31m---------------------------------------------------------------------------\u001b[0m",
            "\u001b[0;31mNameError\u001b[0m                                 Traceback (most recent call last)",
            "\u001b[0;32m<ipython-input-9-aea2ca71005f>\u001b[0m in \u001b[0;36m<module>\u001b[0;34m()\u001b[0m\n\u001b[0;32m----> 1\u001b[0;31m \u001b[0msns\u001b[0m\u001b[0;34m.\u001b[0m\u001b[0mboxplot\u001b[0m\u001b[0;34m(\u001b[0m\u001b[0mdata\u001b[0m\u001b[0;34m=\u001b[0m\u001b[0mdf_final\u001b[0m\u001b[0;34m,\u001b[0m \u001b[0mx\u001b[0m\u001b[0;34m=\u001b[0m\u001b[0;34m'trip_duration_mins'\u001b[0m\u001b[0;34m)\u001b[0m\u001b[0;34m\u001b[0m\u001b[0;34m\u001b[0m\u001b[0m\n\u001b[0m",
            "\u001b[0;31mNameError\u001b[0m: name 'sns' is not defined"
          ]
        }
      ],
      "source": [
        "sns.boxplot(data=df_final, x='trip_duration_mins')"
      ]
    },
    {
      "cell_type": "markdown",
      "id": "0ac15725",
      "metadata": {
        "id": "0ac15725"
      },
      "source": [
        "**Histograma**"
      ]
    },
    {
      "cell_type": "code",
      "execution_count": 8,
      "id": "78313e23",
      "metadata": {
        "colab": {
          "base_uri": "https://localhost:8080/",
          "height": 169
        },
        "id": "78313e23",
        "outputId": "1f1f53f4-6256-4fed-ba78-0d3344cdc51d"
      },
      "outputs": [
        {
          "ename": "NameError",
          "evalue": "ignored",
          "output_type": "error",
          "traceback": [
            "\u001b[0;31m---------------------------------------------------------------------------\u001b[0m",
            "\u001b[0;31mNameError\u001b[0m                                 Traceback (most recent call last)",
            "\u001b[0;32m<ipython-input-8-7a40c600351f>\u001b[0m in \u001b[0;36m<module>\u001b[0;34m()\u001b[0m\n\u001b[0;32m----> 1\u001b[0;31m \u001b[0msns\u001b[0m\u001b[0;34m.\u001b[0m\u001b[0mhistplot\u001b[0m\u001b[0;34m(\u001b[0m\u001b[0mdata\u001b[0m\u001b[0;34m=\u001b[0m\u001b[0mdf_final\u001b[0m\u001b[0;34m,\u001b[0m \u001b[0mx\u001b[0m\u001b[0;34m=\u001b[0m\u001b[0;34m'trip_duration_mins'\u001b[0m\u001b[0;34m)\u001b[0m\u001b[0;34m\u001b[0m\u001b[0;34m\u001b[0m\u001b[0m\n\u001b[0m",
            "\u001b[0;31mNameError\u001b[0m: name 'sns' is not defined"
          ]
        }
      ],
      "source": [
        "sns.histplot(data=df_final, x='trip_duration_mins')"
      ]
    },
    {
      "cell_type": "markdown",
      "id": "52e16f7b",
      "metadata": {
        "id": "52e16f7b"
      },
      "source": [
        "Se ve raro no? Si observamos el describe y el histograma, vemos que tenemos valores concentrados cercanos entre 0 y 100 aproximadamente, y algunos valores extraños (outliers)."
      ]
    },
    {
      "cell_type": "markdown",
      "id": "1c45f97e",
      "metadata": {
        "id": "1c45f97e"
      },
      "source": [
        "**6.3 Topear la columna trip_duration_mins**\n",
        "\n",
        "Aquellos valores mayores a 83 en la columna trip_duration_mins deben ser topeados en 83; y aquellos valores menores a 5 minutos, deben ser topeados en 5.\n",
        "\n",
        "**Nota:** El motivo real por el que sucede esto es porque algunas entradas de datos estan erroneas. El problema es que hay ciertos registros de fecha que estan al revés, en donde el mes esta como el día y viceversa. La solución de este problema no será requerida en este trabajo, pero en caso que esten interesados en ver cómo solucionamos este tema, nos pueden escribir y les enviamos la solución. **Por el momento, solo topeen los valores como se menciona en la consigna**."
      ]
    },
    {
      "cell_type": "code",
      "execution_count": 105,
      "id": "96959bde",
      "metadata": {
        "id": "96959bde"
      },
      "outputs": [],
      "source": [
        "df_topeado=df_final[(df_final['trip_duration_mins']>5) & (df_final['trip_duration_mins']<83)]"
      ]
    },
    {
      "cell_type": "markdown",
      "id": "1db2423e",
      "metadata": {
        "id": "1db2423e"
      },
      "source": [
        "Chequear nuevamente la distribución graficando el boxplot."
      ]
    },
    {
      "cell_type": "code",
      "execution_count": 106,
      "id": "78363102",
      "metadata": {
        "colab": {
          "base_uri": "https://localhost:8080/",
          "height": 298
        },
        "id": "78363102",
        "outputId": "c9373dcf-a3cc-43d0-bedb-6c4daf1368e6"
      },
      "outputs": [
        {
          "data": {
            "text/plain": [
              "<matplotlib.axes._subplots.AxesSubplot at 0x7f2b112e6510>"
            ]
          },
          "execution_count": 106,
          "metadata": {},
          "output_type": "execute_result"
        },
        {
          "data": {
            "image/png": "[encoded data removed]",
            "text/plain": [
              "<Figure size 432x288 with 1 Axes>"
            ]
          },
          "metadata": {
            "needs_background": "light"
          },
          "output_type": "display_data"
        }
      ],
      "source": [
        "sns.boxplot(data=df_topeado, x='trip_duration_mins')"
      ]
    },
    {
      "cell_type": "markdown",
      "id": "f3c1d00f",
      "metadata": {
        "id": "f3c1d00f"
      },
      "source": [
        "### 7. Crear nueva columna \"part_of_the_day\" basandonos en la columna hora.\n",
        "\n",
        "\n",
        "Rangos a crear:\n",
        "- Morning: de 6 AM a 11 AM.\n",
        "- Mi-day: de 12 a 14.\n",
        "- Afternoon: de 15 a 17.\n",
        "- Evening: de 18 a 21.\n",
        "- Night: de 21 PM a 5 AM.\n",
        "\n",
        "**Recomendación: Pueden usar la columna \"request_hour\" para crear dichas categorias en la nueva columna.**\n",
        "\n",
        "**Pista:** Usar la funcion pd.cut con el siguiente formato:\n",
        "```df_final[\"part_of_the_day\"] = pd.cut(columna_hora,\n",
        "[[0, 5, 11, 14, 17, 21, 24],\n",
        "labels = [Categorias correspondientes a cada bucket (\"night\", \"morning\", ...,\n",
        "right=True,\n",
        "include_lowest=True)\n",
        "```\n",
        "\n",
        "Tener en cuenta que probablemente deban crear 2 categorias de night y luego reemplazarlas ya que sino no van a poder realizar los cortes."
      ]
    },
    {
      "cell_type": "code",
      "execution_count": 107,
      "id": "9daa0df2",
      "metadata": {
        "id": "9daa0df2"
      },
      "outputs": [],
      "source": [
        "# en bins se pone la division, desde 0 hasta la siguiente divsion \n",
        "bins =[0,5,11,14,17,21,24]\n",
        "labels = [\"Night\",\"Morning\",\"Mi-day\",\"Afternoon\",\"Evening\",\"Night\"]\n",
        "\n",
        "\n",
        "# CREO LA COLUMNA NUEVA \n",
        "df_final[\"part_of_the_day\"] = pd.cut(df_final[\"hour_request\"],  bins=bins, labels=labels ,\n",
        "include_lowest=True, right = True ,ordered=False)"
      ]
    },
    {
      "cell_type": "code",
      "execution_count": 108,
      "id": "ce04aa96",
      "metadata": {
        "colab": {
          "base_uri": "https://localhost:8080/",
          "height": 679
        },
        "id": "ce04aa96",
        "outputId": "e9999203-84ad-471d-c517-25a35ed54077"
      },
      "outputs": [
        {
          "data": {
            "text/html": [
              "\n",
              "  <div id=\"df-d9837d60-09bc-465b-968e-f6d4f33e9db9\">\n",
              "    <div class=\"colab-df-container\">\n",
              "      <div>\n",
              "<style scoped>\n",
              "    .dataframe tbody tr th:only-of-type {\n",
              "        vertical-align: middle;\n",
              "    }\n",
              "\n",
              "    .dataframe tbody tr th {\n",
              "        vertical-align: top;\n",
              "    }\n",
              "\n",
              "    .dataframe thead th {\n",
              "        text-align: right;\n",
              "    }\n",
              "</style>\n",
              "<table border=\"1\" class=\"dataframe\">\n",
              "  <thead>\n",
              "    <tr style=\"text-align: right;\">\n",
              "      <th></th>\n",
              "      <th>Request id</th>\n",
              "      <th>Pickup point</th>\n",
              "      <th>Driver id</th>\n",
              "      <th>Status</th>\n",
              "      <th>Request timestamp</th>\n",
              "      <th>Drop timestamp</th>\n",
              "      <th>Name</th>\n",
              "      <th>Gender</th>\n",
              "      <th>year_request</th>\n",
              "      <th>year_drop</th>\n",
              "      <th>month_request</th>\n",
              "      <th>month_drop</th>\n",
              "      <th>hour_request</th>\n",
              "      <th>hour_drop</th>\n",
              "      <th>trip_duration_mins</th>\n",
              "      <th>part_of_the_day</th>\n",
              "    </tr>\n",
              "  </thead>\n",
              "  <tbody>\n",
              "    <tr>\n",
              "      <th>0</th>\n",
              "      <td>619</td>\n",
              "      <td>Airport</td>\n",
              "      <td>1.0</td>\n",
              "      <td>Trip Completed</td>\n",
              "      <td>2016-11-07 11:51:00</td>\n",
              "      <td>2016-11-07 13:00:00</td>\n",
              "      <td>Nakita Atherton</td>\n",
              "      <td>F</td>\n",
              "      <td>2016</td>\n",
              "      <td>2016</td>\n",
              "      <td>November</td>\n",
              "      <td>November</td>\n",
              "      <td>11</td>\n",
              "      <td>13</td>\n",
              "      <td>69.0</td>\n",
              "      <td>Morning</td>\n",
              "    </tr>\n",
              "    <tr>\n",
              "      <th>1</th>\n",
              "      <td>867</td>\n",
              "      <td>Airport</td>\n",
              "      <td>1.0</td>\n",
              "      <td>Trip Completed</td>\n",
              "      <td>2016-11-07 17:57:00</td>\n",
              "      <td>2016-11-07 18:47:00</td>\n",
              "      <td>Nakita Atherton</td>\n",
              "      <td>F</td>\n",
              "      <td>2016</td>\n",
              "      <td>2016</td>\n",
              "      <td>November</td>\n",
              "      <td>November</td>\n",
              "      <td>17</td>\n",
              "      <td>18</td>\n",
              "      <td>50.0</td>\n",
              "      <td>Afternoon</td>\n",
              "    </tr>\n",
              "    <tr>\n",
              "      <th>2</th>\n",
              "      <td>1807</td>\n",
              "      <td>City</td>\n",
              "      <td>1.0</td>\n",
              "      <td>Trip Completed</td>\n",
              "      <td>2016-12-07 09:17:00</td>\n",
              "      <td>2016-12-07 09:58:00</td>\n",
              "      <td>Nakita Atherton</td>\n",
              "      <td>F</td>\n",
              "      <td>2016</td>\n",
              "      <td>2016</td>\n",
              "      <td>December</td>\n",
              "      <td>December</td>\n",
              "      <td>9</td>\n",
              "      <td>9</td>\n",
              "      <td>41.0</td>\n",
              "      <td>Morning</td>\n",
              "    </tr>\n",
              "    <tr>\n",
              "      <th>3</th>\n",
              "      <td>2532</td>\n",
              "      <td>Airport</td>\n",
              "      <td>1.0</td>\n",
              "      <td>Trip Completed</td>\n",
              "      <td>2016-12-07 21:08:00</td>\n",
              "      <td>2016-12-07 22:03:00</td>\n",
              "      <td>Nakita Atherton</td>\n",
              "      <td>F</td>\n",
              "      <td>2016</td>\n",
              "      <td>2016</td>\n",
              "      <td>December</td>\n",
              "      <td>December</td>\n",
              "      <td>21</td>\n",
              "      <td>22</td>\n",
              "      <td>55.0</td>\n",
              "      <td>Evening</td>\n",
              "    </tr>\n",
              "    <tr>\n",
              "      <th>4</th>\n",
              "      <td>3112</td>\n",
              "      <td>City</td>\n",
              "      <td>1.0</td>\n",
              "      <td>Trip Completed</td>\n",
              "      <td>2016-07-13 08:33:16</td>\n",
              "      <td>2016-07-13 09:25:47</td>\n",
              "      <td>Nakita Atherton</td>\n",
              "      <td>F</td>\n",
              "      <td>2016</td>\n",
              "      <td>2016</td>\n",
              "      <td>July</td>\n",
              "      <td>July</td>\n",
              "      <td>8</td>\n",
              "      <td>9</td>\n",
              "      <td>52.0</td>\n",
              "      <td>Morning</td>\n",
              "    </tr>\n",
              "    <tr>\n",
              "      <th>...</th>\n",
              "      <td>...</td>\n",
              "      <td>...</td>\n",
              "      <td>...</td>\n",
              "      <td>...</td>\n",
              "      <td>...</td>\n",
              "      <td>...</td>\n",
              "      <td>...</td>\n",
              "      <td>...</td>\n",
              "      <td>...</td>\n",
              "      <td>...</td>\n",
              "      <td>...</td>\n",
              "      <td>...</td>\n",
              "      <td>...</td>\n",
              "      <td>...</td>\n",
              "      <td>...</td>\n",
              "      <td>...</td>\n",
              "    </tr>\n",
              "    <tr>\n",
              "      <th>6740</th>\n",
              "      <td>6745</td>\n",
              "      <td>City</td>\n",
              "      <td>NaN</td>\n",
              "      <td>No Cars Available</td>\n",
              "      <td>2016-07-15 23:49:03</td>\n",
              "      <td>NaT</td>\n",
              "      <td>NaN</td>\n",
              "      <td>NaN</td>\n",
              "      <td>2016</td>\n",
              "      <td>NaN</td>\n",
              "      <td>July</td>\n",
              "      <td>NaN</td>\n",
              "      <td>23</td>\n",
              "      <td>0</td>\n",
              "      <td>NaN</td>\n",
              "      <td>Night</td>\n",
              "    </tr>\n",
              "    <tr>\n",
              "      <th>6741</th>\n",
              "      <td>6752</td>\n",
              "      <td>Airport</td>\n",
              "      <td>NaN</td>\n",
              "      <td>No Cars Available</td>\n",
              "      <td>2016-07-15 23:50:05</td>\n",
              "      <td>NaT</td>\n",
              "      <td>NaN</td>\n",
              "      <td>NaN</td>\n",
              "      <td>2016</td>\n",
              "      <td>NaN</td>\n",
              "      <td>July</td>\n",
              "      <td>NaN</td>\n",
              "      <td>23</td>\n",
              "      <td>0</td>\n",
              "      <td>NaN</td>\n",
              "      <td>Night</td>\n",
              "    </tr>\n",
              "    <tr>\n",
              "      <th>6742</th>\n",
              "      <td>6751</td>\n",
              "      <td>City</td>\n",
              "      <td>NaN</td>\n",
              "      <td>No Cars Available</td>\n",
              "      <td>2016-07-15 23:52:06</td>\n",
              "      <td>NaT</td>\n",
              "      <td>NaN</td>\n",
              "      <td>NaN</td>\n",
              "      <td>2016</td>\n",
              "      <td>NaN</td>\n",
              "      <td>July</td>\n",
              "      <td>NaN</td>\n",
              "      <td>23</td>\n",
              "      <td>0</td>\n",
              "      <td>NaN</td>\n",
              "      <td>Night</td>\n",
              "    </tr>\n",
              "    <tr>\n",
              "      <th>6743</th>\n",
              "      <td>6754</td>\n",
              "      <td>City</td>\n",
              "      <td>NaN</td>\n",
              "      <td>No Cars Available</td>\n",
              "      <td>2016-07-15 23:54:39</td>\n",
              "      <td>NaT</td>\n",
              "      <td>NaN</td>\n",
              "      <td>NaN</td>\n",
              "      <td>2016</td>\n",
              "      <td>NaN</td>\n",
              "      <td>July</td>\n",
              "      <td>NaN</td>\n",
              "      <td>23</td>\n",
              "      <td>0</td>\n",
              "      <td>NaN</td>\n",
              "      <td>Night</td>\n",
              "    </tr>\n",
              "    <tr>\n",
              "      <th>6744</th>\n",
              "      <td>6753</td>\n",
              "      <td>Airport</td>\n",
              "      <td>NaN</td>\n",
              "      <td>No Cars Available</td>\n",
              "      <td>2016-07-15 23:55:03</td>\n",
              "      <td>NaT</td>\n",
              "      <td>NaN</td>\n",
              "      <td>NaN</td>\n",
              "      <td>2016</td>\n",
              "      <td>NaN</td>\n",
              "      <td>July</td>\n",
              "      <td>NaN</td>\n",
              "      <td>23</td>\n",
              "      <td>0</td>\n",
              "      <td>NaN</td>\n",
              "      <td>Night</td>\n",
              "    </tr>\n",
              "  </tbody>\n",
              "</table>\n",
              "<p>6745 rows × 16 columns</p>\n",
              "</div>\n",
              "      <button class=\"colab-df-convert\" onclick=\"convertToInteractive('df-d9837d60-09bc-465b-968e-f6d4f33e9db9')\"\n",
              "              title=\"Convert this dataframe to an interactive table.\"\n",
              "              style=\"display:none;\">\n",
              "        \n",
              "  <svg xmlns=\"http://www.w3.org/2000/svg\" height=\"24px\"viewBox=\"0 0 24 24\"\n",
              "       width=\"24px\">\n",
              "    <path d=\"M0 0h24v24H0V0z\" fill=\"none\"/>\n",
              "    <path d=\"M18.56 5.44l.94 2.06.94-2.06 2.06-.94-2.06-.94-.94-2.06-.94 2.06-2.06.94zm-11 1L8.5 8.5l.94-2.06 2.06-.94-2.06-.94L8.5 2.5l-.94 2.06-2.06.94zm10 10l.94 2.06.94-2.06 2.06-.94-2.06-.94-.94-2.06-.94 2.06-2.06.94z\"/><path d=\"M17.41 7.96l-1.37-1.37c-.4-.4-.92-.59-1.43-.59-.52 0-1.04.2-1.43.59L10.3 9.45l-7.72 7.72c-.78.78-.78 2.05 0 2.83L4 21.41c.39.39.9.59 1.41.59.51 0 1.02-.2 1.41-.59l7.78-7.78 2.81-2.81c.8-.78.8-2.07 0-2.86zM5.41 20L4 18.59l7.72-7.72 1.47 1.35L5.41 20z\"/>\n",
              "  </svg>\n",
              "      </button>\n",
              "      \n",
              "  <style>\n",
              "    .colab-df-container {\n",
              "      display:flex;\n",
              "      flex-wrap:wrap;\n",
              "      gap: 12px;\n",
              "    }\n",
              "\n",
              "    .colab-df-convert {\n",
              "      background-color: #E8F0FE;\n",
              "      border: none;\n",
              "      border-radius: 50%;\n",
              "      cursor: pointer;\n",
              "      display: none;\n",
              "      fill: #1967D2;\n",
              "      height: 32px;\n",
              "      padding: 0 0 0 0;\n",
              "      width: 32px;\n",
              "    }\n",
              "\n",
              "    .colab-df-convert:hover {\n",
              "      background-color: #E2EBFA;\n",
              "      box-shadow: 0px 1px 2px rgba(60, 64, 67, 0.3), 0px 1px 3px 1px rgba(60, 64, 67, 0.15);\n",
              "      fill: #174EA6;\n",
              "    }\n",
              "\n",
              "    [theme=dark] .colab-df-convert {\n",
              "      background-color: #3B4455;\n",
              "      fill: #D2E3FC;\n",
              "    }\n",
              "\n",
              "    [theme=dark] .colab-df-convert:hover {\n",
              "      background-color: #434B5C;\n",
              "      box-shadow: 0px 1px 3px 1px rgba(0, 0, 0, 0.15);\n",
              "      filter: drop-shadow(0px 1px 2px rgba(0, 0, 0, 0.3));\n",
              "      fill: #FFFFFF;\n",
              "    }\n",
              "  </style>\n",
              "\n",
              "      <script>\n",
              "        const buttonEl =\n",
              "          document.querySelector('#df-d9837d60-09bc-465b-968e-f6d4f33e9db9 button.colab-df-convert');\n",
              "        buttonEl.style.display =\n",
              "          google.colab.kernel.accessAllowed ? 'block' : 'none';\n",
              "\n",
              "        async function convertToInteractive(key) {\n",
              "          const element = document.querySelector('#df-d9837d60-09bc-465b-968e-f6d4f33e9db9');\n",
              "          const dataTable =\n",
              "            await google.colab.kernel.invokeFunction('convertToInteractive',\n",
              "                                                     [key], {});\n",
              "          if (!dataTable) return;\n",
              "\n",
              "          const docLinkHtml = 'Like what you see? Visit the ' +\n",
              "            '<a target=\"_blank\" href=https://colab.research.google.com/notebooks/data_table.ipynb>data table notebook</a>'\n",
              "            + ' to learn more about interactive tables.';\n",
              "          element.innerHTML = '';\n",
              "          dataTable['output_type'] = 'display_data';\n",
              "          await google.colab.output.renderOutput(dataTable, element);\n",
              "          const docLink = document.createElement('div');\n",
              "          docLink.innerHTML = docLinkHtml;\n",
              "          element.appendChild(docLink);\n",
              "        }\n",
              "      </script>\n",
              "    </div>\n",
              "  </div>\n",
              "  "
            ],
            "text/plain": [
              "      Request id Pickup point  Driver id             Status  \\\n",
              "0            619      Airport        1.0     Trip Completed   \n",
              "1            867      Airport        1.0     Trip Completed   \n",
              "2           1807         City        1.0     Trip Completed   \n",
              "3           2532      Airport        1.0     Trip Completed   \n",
              "4           3112         City        1.0     Trip Completed   \n",
              "...          ...          ...        ...                ...   \n",
              "6740        6745         City        NaN  No Cars Available   \n",
              "6741        6752      Airport        NaN  No Cars Available   \n",
              "6742        6751         City        NaN  No Cars Available   \n",
              "6743        6754         City        NaN  No Cars Available   \n",
              "6744        6753      Airport        NaN  No Cars Available   \n",
              "\n",
              "       Request timestamp      Drop timestamp             Name Gender  \\\n",
              "0    2016-11-07 11:51:00 2016-11-07 13:00:00  Nakita Atherton      F   \n",
              "1    2016-11-07 17:57:00 2016-11-07 18:47:00  Nakita Atherton      F   \n",
              "2    2016-12-07 09:17:00 2016-12-07 09:58:00  Nakita Atherton      F   \n",
              "3    2016-12-07 21:08:00 2016-12-07 22:03:00  Nakita Atherton      F   \n",
              "4    2016-07-13 08:33:16 2016-07-13 09:25:47  Nakita Atherton      F   \n",
              "...                  ...                 ...              ...    ...   \n",
              "6740 2016-07-15 23:49:03                 NaT              NaN    NaN   \n",
              "6741 2016-07-15 23:50:05                 NaT              NaN    NaN   \n",
              "6742 2016-07-15 23:52:06                 NaT              NaN    NaN   \n",
              "6743 2016-07-15 23:54:39                 NaT              NaN    NaN   \n",
              "6744 2016-07-15 23:55:03                 NaT              NaN    NaN   \n",
              "\n",
              "     year_request year_drop month_request month_drop  hour_request  hour_drop  \\\n",
              "0            2016      2016      November   November            11         13   \n",
              "1            2016      2016      November   November            17         18   \n",
              "2            2016      2016      December   December             9          9   \n",
              "3            2016      2016      December   December            21         22   \n",
              "4            2016      2016          July       July             8          9   \n",
              "...           ...       ...           ...        ...           ...        ...   \n",
              "6740         2016       NaN          July        NaN            23          0   \n",
              "6741         2016       NaN          July        NaN            23          0   \n",
              "6742         2016       NaN          July        NaN            23          0   \n",
              "6743         2016       NaN          July        NaN            23          0   \n",
              "6744         2016       NaN          July        NaN            23          0   \n",
              "\n",
              "      trip_duration_mins part_of_the_day  \n",
              "0                   69.0         Morning  \n",
              "1                   50.0       Afternoon  \n",
              "2                   41.0         Morning  \n",
              "3                   55.0         Evening  \n",
              "4                   52.0         Morning  \n",
              "...                  ...             ...  \n",
              "6740                 NaN           Night  \n",
              "6741                 NaN           Night  \n",
              "6742                 NaN           Night  \n",
              "6743                 NaN           Night  \n",
              "6744                 NaN           Night  \n",
              "\n",
              "[6745 rows x 16 columns]"
            ]
          },
          "execution_count": 108,
          "metadata": {},
          "output_type": "execute_result"
        }
      ],
      "source": [
        "df_final"
      ]
    },
    {
      "cell_type": "markdown",
      "id": "1c5ac37b",
      "metadata": {
        "id": "1c5ac37b"
      },
      "source": [
        "\n",
        "**7.1 Chequear con un groupby o un pivot_table los valores máximos y minimos de la columna request_hour, agrupando por la columna part_of_the_day**"
      ]
    },
    {
      "cell_type": "code",
      "execution_count": 109,
      "id": "984be411",
      "metadata": {
        "colab": {
          "base_uri": "https://localhost:8080/"
        },
        "id": "984be411",
        "outputId": "fb9ac843-413f-4391-c19e-15dac17731e1"
      },
      "outputs": [
        {
          "name": "stdout",
          "output_type": "stream",
          "text": [
            "-----Maximo-----\n",
            "                 hour_request\n",
            "part_of_the_day              \n",
            "Afternoon                  17\n",
            "Evening                    21\n",
            "Mi-day                     14\n",
            "Morning                    11\n",
            "Night                      23\n",
            "-----Minimo-----\n",
            "                 hour_request\n",
            "part_of_the_day              \n",
            "Afternoon                  15\n",
            "Evening                    18\n",
            "Mi-day                     12\n",
            "Morning                     6\n",
            "Night                       0\n"
          ]
        }
      ],
      "source": [
        "#calculo del minimo\n",
        "df_group_max=df_final[['part_of_the_day','hour_request']].groupby([\"part_of_the_day\"]).max('hour_request')\n",
        "print('-----Maximo-----')\n",
        "print(df_group_max)\n",
        "df_group_min=df_final[['part_of_the_day','hour_request']].groupby([\"part_of_the_day\"]).min('hour_request')\n",
        "print('-----Minimo-----')\n",
        "print(df_group_min)"
      ]
    },
    {
      "cell_type": "markdown",
      "id": "6f8cfb6d",
      "metadata": {
        "id": "6f8cfb6d"
      },
      "source": [
        "### 8. Análisis Exploratorio de datos"
      ]
    },
    {
      "cell_type": "markdown",
      "id": "31cac9cd",
      "metadata": {
        "id": "31cac9cd"
      },
      "source": [
        "#### 8.1. Analizar las horas más populares en que los viajes son solicitados (no importa el status de request o trip).\n",
        "\n",
        "**Graficar:**\n",
        "\n",
        "Pueden usar sns.countplot() tanto para la columna part_of_the_day o request_hour."
      ]
    },
    {
      "cell_type": "code",
      "execution_count": 135,
      "id": "f52e3e18",
      "metadata": {
        "colab": {
          "base_uri": "https://localhost:8080/",
          "height": 350
        },
        "id": "f52e3e18",
        "outputId": "e245b8dc-f84e-45e9-ad6f-f4a456808944",
        "scrolled": true
      },
      "outputs": [
        {
          "data": {
            "image/png": "[encoded data removed]",
            "text/plain": [
              "<Figure size 1080x360 with 2 Axes>"
            ]
          },
          "metadata": {
            "needs_background": "light"
          },
          "output_type": "display_data"
        }
      ],
      "source": [
        "plt.figure(figsize=(15,5))\n",
        "plt.subplot(121) \n",
        "sns.countplot(x='hour_request', data=df_final)\n",
        "plt.xlabel('hora')\n",
        "plt.ylabel('cantidad de pedidos')\n",
        "plt.title('Horarios de demanda')\n",
        "\n",
        "plt.subplot(122) \n",
        "sns.countplot(x='part_of_the_day', data=df_final, order=['Morning','Mi-day','Afternoon','Evening','Night'])\n",
        "plt.xlabel('Parte del dia')\n",
        "plt.ylabel('cantidad de pedidos')\n",
        "plt.title('Horarios de demanda')\n",
        "\n",
        "plt.show()"
      ]
    },
    {
      "cell_type": "markdown",
      "id": "e256f62f",
      "metadata": {
        "id": "e256f62f"
      },
      "source": [
        "**Insighs**\n",
        "\n",
        "Los horarios de mayor demanda se encuentran en la mañana y en la tarde-noche, es importante destacar que el horario nocturno tiene sus picos en el inicio y el final, siendo la madrugada el horario con menos demada."
      ]
    },
    {
      "cell_type": "markdown",
      "id": "e08adc54",
      "metadata": {
        "id": "e08adc54"
      },
      "source": [
        "Los horarios de mayor demanda se encuentran en la mañana y en la tarde-noche"
      ]
    },
    {
      "cell_type": "markdown",
      "id": "46cb271e",
      "metadata": {
        "id": "46cb271e"
      },
      "source": [
        "### 8.2. Distribución del estado de todos los viajes.\n",
        "\n",
        "Analizar la distribución de la columna \"Status\".\n",
        "\n",
        "**Graficar un barplot y calcular utilizando la value_counts() sobre la columna**"
      ]
    },
    {
      "cell_type": "markdown",
      "id": "70b18cda",
      "metadata": {
        "id": "70b18cda"
      },
      "source": [
        "**Barplot**"
      ]
    },
    {
      "cell_type": "code",
      "execution_count": 112,
      "id": "3c9816d0",
      "metadata": {
        "colab": {
          "base_uri": "https://localhost:8080/",
          "height": 297
        },
        "id": "3c9816d0",
        "outputId": "c019e093-03f6-4a3b-af12-ef97203a5a66",
        "scrolled": false
      },
      "outputs": [
        {
          "data": {
            "text/plain": [
              "<matplotlib.axes._subplots.AxesSubplot at 0x7f2b0fd3b410>"
            ]
          },
          "execution_count": 112,
          "metadata": {},
          "output_type": "execute_result"
        },
        {
          "data": {
            "image/png": "[encoded data removed]",
            "text/plain": [
              "<Figure size 432x288 with 1 Axes>"
            ]
          },
          "metadata": {
            "needs_background": "light"
          },
          "output_type": "display_data"
        }
      ],
      "source": [
        "# MODIFICO DF PARA OBTENER EL BARPLOT USANDO VALUE_COUNTS\n",
        "data_graf2 = pd.DataFrame(df_final['Status'].value_counts())\n",
        "data_graf2.rename(columns={'Status': 'Cantidad'}, inplace = True)\n",
        "data_graf2['Status'] = data_graf2.index\n",
        "data_graf2 = data_graf2.reset_index(drop=True)\n",
        "\n",
        "# GENERO GRAFICO\n",
        "sns.barplot(x='Status', y='Cantidad', data= data_graf2)"
      ]
    },
    {
      "cell_type": "markdown",
      "id": "78bc68cb",
      "metadata": {
        "id": "78bc68cb"
      },
      "source": [
        "**Value_counts**"
      ]
    },
    {
      "cell_type": "code",
      "execution_count": 113,
      "id": "5f7fb6ae",
      "metadata": {
        "colab": {
          "base_uri": "https://localhost:8080/"
        },
        "id": "5f7fb6ae",
        "outputId": "1e0cfcdb-e481-469c-9808-3a2defcc8a40",
        "scrolled": true
      },
      "outputs": [
        {
          "data": {
            "text/plain": [
              "Trip Completed       2831\n",
              "No Cars Available    2650\n",
              "Cancelled            1264\n",
              "Name: Status, dtype: int64"
            ]
          },
          "execution_count": 113,
          "metadata": {},
          "output_type": "execute_result"
        }
      ],
      "source": [
        "df_final['Status'].value_counts()   "
      ]
    },
    {
      "cell_type": "markdown",
      "id": "ed2e4ff1",
      "metadata": {
        "id": "ed2e4ff1"
      },
      "source": [
        "**Insights**\n",
        "\n",
        "Es importante señalar que los viajes completados son menos de la mitad, y tomando como viajes no completados la suma de Cancelados y No disponibilidad de Autos existe un gran demanda que no se esta satisfaciendo, es decir, potencialmente podriamos duplicar los viajes completados si generamos la oferta suficiente. "
      ]
    },
    {
      "cell_type": "markdown",
      "id": "056fc87b",
      "metadata": {
        "id": "056fc87b"
      },
      "source": [
        "### 8.3.  Distribucion de viajes (trips) por parte del dia y status.\n",
        "\n",
        "El proposito de este grafico es chequear la demanda de viajes por hora del dia, y chequear el status de esos viajes, para chequear donde tenemos problemas."
      ]
    },
    {
      "cell_type": "code",
      "execution_count": 124,
      "id": "816dde3c",
      "metadata": {
        "colab": {
          "base_uri": "https://localhost:8080/",
          "height": 350
        },
        "id": "816dde3c",
        "outputId": "2e73a599-9402-471a-db37-924fed339fce"
      },
      "outputs": [
        {
          "data": {
            "image/png": "[encoded data removed]",
            "text/plain": [
              "<Figure size 1080x360 with 2 Axes>"
            ]
          },
          "metadata": {
            "needs_background": "light"
          },
          "output_type": "display_data"
        }
      ],
      "source": [
        "plt.figure(figsize=(15,5))\n",
        "plt.subplot(121)\n",
        "sns.histplot(x='hour_request', data=df_final, hue='Status',multiple='stack', bins=24)\n",
        "plt.xlabel('hora')\n",
        "plt.ylabel('cantidad de pedidos')\n",
        "plt.title('Horarios de demanda')\n",
        "\n",
        "plt.subplot(122)\n",
        "sns.countplot(data=df_final, x='part_of_the_day', hue= 'Status', order=['Morning','Mi-day','Afternoon','Evening','Night'])\n",
        "plt.xlabel('parte del dia')\n",
        "plt.ylabel('cantidad de pedidos')\n",
        "plt.title('Horarios de demanda')\n",
        "\n",
        "plt.show()"
      ]
    },
    {
      "cell_type": "markdown",
      "id": "8e800fd5",
      "metadata": {
        "id": "8e800fd5"
      },
      "source": [
        "**Insights**\n",
        "\n",
        "Para la ventana de tiempo dada dejamos de realizar al menos 50 viajes en cada horario y en la tarde noche es donde tenemos el mayor deficit en la oferta de autos disponibles. Es necesario preparar la oferta para satisfacer la demanda haciendo foco en el horario de 17 a 23. Con respecto a las cancelaciones debemos pasar por una etapa de entendimiento del porqué se generan para disminuir aquellas que se relacionan a nuestro servicio. "
      ]
    },
    {
      "cell_type": "markdown",
      "id": "1be9bf04",
      "metadata": {
        "id": "1be9bf04"
      },
      "source": [
        "### 8.4 Distribucion de pick up point por parte del dia.\n",
        "\n",
        "La idea es obtener un por parte del dia, como se distribuyen los viajes respecto al pickup point."
      ]
    },
    {
      "cell_type": "code",
      "execution_count": 131,
      "id": "5a47f8ae",
      "metadata": {
        "colab": {
          "base_uri": "https://localhost:8080/",
          "height": 573
        },
        "id": "5a47f8ae",
        "outputId": "d62832eb-fcbb-48f1-9673-db737179a9d6"
      },
      "outputs": [
        {
          "data": {
            "image/png": "[encoded data removed]",
            "text/plain": [
              "<Figure size 432x288 with 1 Axes>"
            ]
          },
          "metadata": {
            "needs_background": "light"
          },
          "output_type": "display_data"
        },
        {
          "data": {
            "image/png": "[encoded data removed]",
            "text/plain": [
              "<Figure size 432x288 with 1 Axes>"
            ]
          },
          "metadata": {
            "needs_background": "light"
          },
          "output_type": "display_data"
        }
      ],
      "source": [
        "graf41 = sns.histplot(x='hour_request', data=df_final, hue='Pickup point',multiple='stack', bins=24)\n",
        "plt.xlabel('hora')\n",
        "plt.ylabel('cantidad de pedidos')\n",
        "plt.title('Horarios de demanda')\n",
        "\n",
        "plt.show()\n",
        "\n",
        "graf42 = sns.countplot(x='part_of_the_day', data=df_final, hue='Pickup point', order=['Morning','Mi-day','Afternoon','Evening','Night'])\n",
        "plt.xlabel('hora')\n",
        "plt.ylabel('cantidad de pedidos')\n",
        "plt.title('Horarios de demanda')\n",
        "\n",
        "plt.show()\n",
        "\n"
      ]
    },
    {
      "cell_type": "markdown",
      "id": "44a99eb6",
      "metadata": {
        "id": "44a99eb6"
      },
      "source": [
        "**Insights**\n",
        "\n",
        "La ciudad posee una mayor demanda en la mañana y el aereopuerto en la noche, debemos prepararnos logisticamente para poder tener la disponibilidad de abordar la mayor cantidad de viajes a la ciudad en la mañana y la mayor cantidad de viajes al aereopuerto en la tarde-noche."
      ]
    },
    {
      "cell_type": "markdown",
      "id": "c2cb085b",
      "metadata": {
        "id": "c2cb085b"
      },
      "source": [
        "### 8.5  Obtener el top 10 de conductores con mayores viajes.\n",
        "\n",
        "El output esperado es el nombre de los 10 conductores con más viajes, junto a la cantidad de viajes de cada uno."
      ]
    },
    {
      "cell_type": "code",
      "execution_count": 132,
      "id": "746310d4",
      "metadata": {
        "colab": {
          "base_uri": "https://localhost:8080/"
        },
        "id": "746310d4",
        "outputId": "5912ca51-e14a-49f4-d7be-44150d692f9a",
        "scrolled": true
      },
      "outputs": [
        {
          "data": {
            "text/plain": [
              "Aston Hooper        22\n",
              "Yousuf Haas         21\n",
              "Bridget Roberson    21\n",
              "Sharon Ahmed        21\n",
              "Angelo Castillo     21\n",
              "Harlan Cross        21\n",
              "Kelvin Malone       20\n",
              "Thiago Pitts        20\n",
              "Rachael Haynes      20\n",
              "Allen Hammond       20\n",
              "Name: Name, dtype: int64"
            ]
          },
          "execution_count": 132,
          "metadata": {},
          "output_type": "execute_result"
        }
      ],
      "source": [
        "df_final['Name'].value_counts().head(10)"
      ]
    },
    {
      "cell_type": "markdown",
      "id": "2ddcd73e",
      "metadata": {
        "id": "2ddcd73e"
      },
      "source": [
        "### 8.6  Obtener la distribución por genero\n",
        "\n",
        "- Qué genero es más popular entre los conductores?\n",
        "- Obtener la parte del dia más popular para el género femenino."
      ]
    },
    {
      "cell_type": "markdown",
      "id": "35c5c437",
      "metadata": {
        "id": "35c5c437"
      },
      "source": [
        "**Distribución de géneros**\n",
        "\n",
        "Usar value_counts y tener en cuenta dropna."
      ]
    },
    {
      "cell_type": "code",
      "execution_count": 133,
      "id": "26db7378",
      "metadata": {
        "colab": {
          "base_uri": "https://localhost:8080/",
          "height": 297
        },
        "id": "26db7378",
        "outputId": "6b215b96-ca80-4301-f0ed-f2d7feaad7b1"
      },
      "outputs": [
        {
          "data": {
            "text/plain": [
              "<matplotlib.axes._subplots.AxesSubplot at 0x7f2b0c606350>"
            ]
          },
          "execution_count": 133,
          "metadata": {},
          "output_type": "execute_result"
        },
        {
          "data": {
            "image/png": "[encoded data removed]",
            "text/plain": [
              "<Figure size 432x288 with 1 Axes>"
            ]
          },
          "metadata": {
            "needs_background": "light"
          },
          "output_type": "display_data"
        }
      ],
      "source": [
        "data_graf6 = pd.DataFrame(df_final['Gender'].value_counts())\n",
        "data_graf6.rename(columns={'Gender': 'Cantidad'}, inplace = True)\n",
        "data_graf6['Gender'] = data_graf6.index\n",
        "data_graf6 = data_graf6.reset_index(drop=True)\n",
        "\n",
        "# GENERO GRAFICO\n",
        "sns.barplot(x='Gender', y='Cantidad', data= data_graf6)"
      ]
    },
    {
      "cell_type": "markdown",
      "id": "b21044e4",
      "metadata": {
        "id": "b21044e4"
      },
      "source": [
        "**Parte del dia más popular para el genero femenino**"
      ]
    },
    {
      "cell_type": "code",
      "execution_count": 134,
      "id": "594dddf2",
      "metadata": {
        "colab": {
          "base_uri": "https://localhost:8080/",
          "height": 295
        },
        "id": "594dddf2",
        "outputId": "42ef1043-d9af-49ae-9ad3-cd2384a11494"
      },
      "outputs": [
        {
          "data": {
            "image/png": "[encoded data removed]",
            "text/plain": [
              "<Figure size 432x288 with 1 Axes>"
            ]
          },
          "metadata": {
            "needs_background": "light"
          },
          "output_type": "display_data"
        }
      ],
      "source": [
        "graf7 = sns.countplot(x='hour_request', data=df_final[df_final['Gender'] == 'F'])\n",
        "plt.xlabel('hora')\n",
        "plt.ylabel('cantidad de pedidos')\n",
        "plt.title('Horarios de demanda')\n",
        "plt.show()"
      ]
    }
  ],
  "metadata": {
    "colab": {
      "name": "2TP_PICCIONE_BUSTAMANTE_CHAC (1).ipynb",
      "provenance": []
    },
    "kernelspec": {
      "display_name": "Python 3.10.1 64-bit",
      "language": "python",
      "name": "python3"
    },
    "language_info": {
      "codemirror_mode": {
        "name": "ipython",
        "version": 3
      },
      "file_extension": ".py",
      "mimetype": "text/x-python",
      "name": "python",
      "nbconvert_exporter": "python",
      "pygments_lexer": "ipython3",
      "version": "3.10.1"
    },
    "vscode": {
      "interpreter": {
        "hash": "36a3ff2b6c9be6bf17b8bb2e664573922300ecc825de001a6d5db562fb49d685"
      }
    }
  },
  "nbformat": 4,
  "nbformat_minor": 5
}
